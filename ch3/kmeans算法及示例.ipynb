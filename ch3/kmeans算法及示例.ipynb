{
 "cells": [
  {
   "cell_type": "code",
   "execution_count": 4,
   "metadata": {},
   "outputs": [],
   "source": [
    "import numpy as np"
   ]
  },
  {
   "cell_type": "markdown",
   "metadata": {},
   "source": [
    "##### 查看各点的坐标"
   ]
  },
  {
   "cell_type": "code",
   "execution_count": 5,
   "metadata": {},
   "outputs": [
    {
     "name": "stdout",
     "output_type": "stream",
     "text": [
      "[[ 8.76474369 14.97536963]\n",
      " [ 4.54577845  7.39433243]\n",
      " [ 5.66184177 10.45327224]\n",
      " [ 6.02005553 18.60759073]\n",
      " [12.56729723  5.50656992]\n",
      " [ 4.18694228 14.02615036]\n",
      " [ 5.72670608  8.37561397]\n",
      " [ 4.09989928 14.44273323]\n",
      " [ 2.25717893  1.97789559]\n",
      " [ 4.66913545  0.77178038]\n",
      " [ 8.1219476   0.79762128]\n",
      " [ 0.07972278 -1.9386662 ]\n",
      " [ 8.37004706 10.77781799]\n",
      " [ 6.6809732  15.53118858]\n",
      " [ 5.99194694 16.57732864]\n",
      " [ 5.64199016 15.54671014]\n",
      " [-2.92514764 11.0884457 ]\n",
      " [ 4.99694961  1.98673206]\n",
      " [ 3.8665841  -1.75282591]\n",
      " [ 2.62642744 22.08897582]\n",
      " [ 5.65622583 14.77736975]\n",
      " [-0.33882279  5.56931142]\n",
      " [10.93574482 11.24487206]\n",
      " [ 4.65023576 12.78869503]\n",
      " [ 8.49848513  9.78769711]\n",
      " [ 7.53046709  8.50232567]\n",
      " [ 6.17118371 21.74394049]\n",
      " [-0.93339496  1.59414249]\n",
      " [-6.37700491  3.46389409]\n",
      " [ 7.13598091 14.17794597]]\n"
     ]
    }
   ],
   "source": [
    "samples = np.loadtxt(\"kmeansSamples.txt\")\n",
    "print(samples)"
   ]
  },
  {
   "cell_type": "markdown",
   "metadata": {},
   "source": [
    "##### 定义欧式距离计算函数"
   ]
  },
  {
   "cell_type": "code",
   "execution_count": 6,
   "metadata": {},
   "outputs": [],
   "source": [
    "def L2(vecXi, vecXj):\n",
    "    '''\n",
    "    计算欧氏距离\n",
    "    para vecXi：点坐标，向量\n",
    "    para vecXj：点坐标，向量\n",
    "    retrurn: 两点之间的欧氏距离\n",
    "    '''\n",
    "    return np.sqrt(np.sum(np.power(vecXi - vecXj, 2)))"
   ]
  },
  {
   "cell_type": "markdown",
   "metadata": {},
   "source": [
    "##### 定义kmeans迭代函数"
   ]
  },
  {
   "cell_type": "code",
   "execution_count": 7,
   "metadata": {},
   "outputs": [],
   "source": [
    "from sklearn.metrics import silhouette_score, davies_bouldin_score\n",
    "def kMeans(S, k, distMeas=L2):\n",
    "    '''\n",
    "    K均值聚类\n",
    "    para S：样本集，多维数组\n",
    "    para k：簇个数\n",
    "    para distMeas：距离度量函数，默认为欧氏距离计算函数\n",
    "    return sampleTag：一维数组，存储样本对应的簇标记\n",
    "    return clusterCents：一维数组，各簇中心\n",
    "    retrun SSE:误差平方和\n",
    "    '''\n",
    "    m = np.shape(S)[0] # 样本总数\n",
    "    sampleTag = np.zeros(m)\n",
    "    \n",
    "    # 随机产生k个初始簇中心\n",
    "    n = np.shape(S)[1] # 样本向量的特征数\n",
    "    clusterCents = np.mat([[-1.93964824,2.33260803],[7.79822795,6.72621783],[10.64183154,0.20088133]]) # 为实验可重复性，此外注释掉随机产生簇中心的代码，改为指定三个簇中心\n",
    "    #clusterCents = np.mat(np.zeros((k,n)))\n",
    "    #for j in range(n):\n",
    "    #    minJ = min(S[:,j]) \n",
    "    #    rangeJ = float(max(S[:,j]) - minJ)\n",
    "    #    clusterCents[:,j] = np.mat(minJ + rangeJ * np.random.rand(k,1))\n",
    "        \n",
    "    sampleTagChanged = True\n",
    "    SSE = 0.0\n",
    "    while sampleTagChanged: # 如果没有点发生分配结果改变，则结束\n",
    "        sampleTagChanged = False\n",
    "        SSE = 0.0\n",
    "        \n",
    "        # 计算每个样本点到各簇中心的距离\n",
    "        for i in range(m):\n",
    "            minD = np.inf\n",
    "            minIndex = -1\n",
    "            for j in range(k):\n",
    "                d = distMeas(clusterCents[j,:],S[i,:])\n",
    "                if d < minD:\n",
    "                    minD = d\n",
    "                    minIndex = j\n",
    "            if sampleTag[i] != minIndex: \n",
    "                sampleTagChanged = True\n",
    "                sampleTag[i] = minIndex\n",
    "            SSE += minD**2\n",
    "        print(clusterCents)\n",
    "        # 为了演示分簇过程，在每次迭代中都画出簇心和簇成员\n",
    "        plt.scatter(clusterCents[:,0].tolist(),clusterCents[:,1].tolist(),c='r',marker='^',linewidths=7)\n",
    "        plt.scatter(S[:,0],S[:,1],c=sampleTag,linewidths=np.power(sampleTag+0.5, 2)) # 用不同大小的点来表示不同簇的点\n",
    "        plt.show()\n",
    "        print(\"SSE:\"+str(SSE))\n",
    "        print(\"SC:\"+str(silhouette_score(S, sampleTag, metric='euclidean')))\n",
    "        print(\"DBI:\"+str(davies_bouldin_score(S, sampleTag)))\n",
    "\n",
    "        print(\"- - - - - - - - - - - - - - - - - - - - - - - -\")\n",
    "        \n",
    "        # 重新计算簇中心\n",
    "        for i in range(k):\n",
    "            ClustI = S[np.nonzero(sampleTag[:]==i)[0]]\n",
    "            clusterCents[i,:] = np.mean(ClustI, axis=0) \n",
    "    return clusterCents, sampleTag, SSE\n"
   ]
  },
  {
   "cell_type": "code",
   "execution_count": 9,
   "metadata": {},
   "outputs": [
    {
     "name": "stdout",
     "output_type": "stream",
     "text": [
      "[[-1.93964824  2.33260803]\n",
      " [ 7.79822795  6.72621783]\n",
      " [10.64183154  0.20088133]]\n"
     ]
    },
    {
     "data": {
      "image/png": "[encoded data removed]",
      "text/plain": [
       "<Figure size 432x288 with 1 Axes>"
      ]
     },
     "metadata": {
      "needs_background": "light"
     },
     "output_type": "display_data"
    },
    {
     "name": "stdout",
     "output_type": "stream",
     "text": [
      "SSE:1674.1944460020268\n",
      "SC:0.36330823543770285\n",
      "DBI:0.8056369072268063\n",
      "- - - - - - - - - - - - - - - - - - - - - - - -\n",
      "[[-1.37291143  3.62583718]\n",
      " [ 6.49809152 12.82443961]\n",
      " [ 5.55255572 -0.06114142]]\n"
     ]
    },
    {
     "data": {
      "image/png": "[encoded data removed]",
      "text/plain": [
       "<Figure size 432x288 with 1 Axes>"
      ]
     },
     "metadata": {
      "needs_background": "light"
     },
     "output_type": "display_data"
    },
    {
     "name": "stdout",
     "output_type": "stream",
     "text": [
      "SSE:641.6091611948824\n",
      "SC:0.4332385538550796\n",
      "DBI:0.8403130057712209\n",
      "- - - - - - - - - - - - - - - - - - - - - - - -\n",
      "[[-2.0989295   3.9554255 ]\n",
      " [ 6.25766711 13.77999631]\n",
      " [ 6.07984882  1.54796222]]\n"
     ]
    },
    {
     "data": {
      "image/png": "[encoded data removed]",
      "text/plain": [
       "<Figure size 432x288 with 1 Axes>"
      ]
     },
     "metadata": {
      "needs_background": "light"
     },
     "output_type": "display_data"
    },
    {
     "name": "stdout",
     "output_type": "stream",
     "text": [
      "SSE:595.6061857081733\n",
      "SC:0.41650941198623886\n",
      "DBI:0.8981951114181145\n",
      "- - - - - - - - - - - - - - - - - - - - - - - -\n",
      "[[-2.0989295   3.9554255 ]\n",
      " [ 6.35277204 14.13475541]\n",
      " [ 5.86069591  2.38315796]]\n"
     ]
    },
    {
     "data": {
      "image/png": "[encoded data removed]",
      "text/plain": [
       "<Figure size 432x288 with 1 Axes>"
      ]
     },
     "metadata": {
      "needs_background": "light"
     },
     "output_type": "display_data"
    },
    {
     "name": "stdout",
     "output_type": "stream",
     "text": [
      "SSE:587.9589447573272\n",
      "SC:0.41650941198623886\n",
      "DBI:0.8981951114181145\n",
      "- - - - - - - - - - - - - - - - - - - - - - - -\n",
      "[[-2.0989295   3.9554255 ]\n",
      " [ 6.35277204 14.13475541]\n",
      " [ 5.86069591  2.38315796]]\n",
      "587.9589447573272\n"
     ]
    }
   ],
   "source": [
    "import matplotlib.pyplot as plt\n",
    "samples = np.loadtxt(\"kmeansSamples.txt\")\n",
    "clusterCents, sampleTag, SSE = kMeans(samples, 3)\n",
    "plt.show()\n",
    "print(clusterCents)\n",
    "print(SSE)"
   ]
  },
  {
   "cell_type": "code",
   "execution_count": 6,
   "metadata": {},
   "outputs": [
    {
     "data": {
      "text/plain": [
       "array([1., 2., 1., 1., 2., 1., 1., 1., 2., 2., 2., 0., 1., 1., 1., 1., 0.,\n",
       "       2., 2., 1., 1., 0., 1., 1., 1., 1., 1., 0., 0., 1.])"
      ]
     },
     "execution_count": 6,
     "metadata": {},
     "output_type": "execute_result"
    }
   ],
   "source": [
    "sampleTag"
   ]
  }
 ],
 "metadata": {
  "kernelspec": {
   "display_name": "Python 3",
   "language": "python",
   "name": "python3"
  },
  "language_info": {
   "codemirror_mode": {
    "name": "ipython",
    "version": 3
   },
   "file_extension": ".py",
   "mimetype": "text/x-python",
   "name": "python",
   "nbconvert_exporter": "python",
   "pygments_lexer": "ipython3",
   "version": "3.7.4"
  }
 },
 "nbformat": 4,
 "nbformat_minor": 2
}
