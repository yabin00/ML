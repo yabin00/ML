{
 "cells": [
  {
   "cell_type": "code",
   "execution_count": 21,
   "metadata": {},
   "outputs": [
    {
     "name": "stdout",
     "output_type": "stream",
     "text": [
      "[1770.945095115084]\n"
     ]
    }
   ],
   "source": [
    "import numpy as np\n",
    "import matplotlib.pyplot as plt\n",
    "from sklearn.cluster import KMeans\n",
    "samples = np.loadtxt(\"kmeansSamples.txt\")\n",
    "n_clusters = 3 # 分簇的数量\n",
    "n_init = 1 # 指定kmeans算法重复运行次数\n",
    "estimator = KMeans(init='k-means++', n_clusters=1, n_init=n_init)  # 设置n_clusters=1是为了计算SSE值\n",
    "estimator.fit(samples)\n",
    "samples = [samples]\n",
    "SSE = [estimator.inertia_] # 记录下簇的SSE值\n",
    "print(SSE)"
   ]
  },
  {
   "cell_type": "markdown",
   "metadata": {},
   "source": [
    "#### 分裂主循环"
   ]
  },
  {
   "cell_type": "code",
   "execution_count": 22,
   "metadata": {},
   "outputs": [
    {
     "name": "stdout",
     "output_type": "stream",
     "text": [
      "785.3905115817278  -  985.5545835333563\n",
      "317.0461947316521  -  260.17539981058917\n",
      "89.4762832591016  -  99.49083754681446\n"
     ]
    }
   ],
   "source": [
    "while len(SSE) < n_clusters:\n",
    "    max_changed_SSE = 0\n",
    "    tag = -1\n",
    "    for i in range(len(SSE)): # 对每个簇进行试分簇，计算SSE的减少量\n",
    "        estimator = KMeans(init='k-means++', n_clusters=2, n_init=n_init).fit(samples[i]) # 二分簇\n",
    "        changed_SSE = SSE[i] - estimator.inertia_\n",
    "        print(estimator.inertia_, ' - ', changed_SSE)\n",
    "        if changed_SSE > max_changed_SSE: # 比较SSE值是不是减少了\n",
    "            max_changed_SSE = changed_SSE\n",
    "            tag = i\n",
    "    # 正式分簇\n",
    "    estimator = KMeans(init='k-means++', n_clusters=2, n_init=n_init).fit(samples[tag])\n",
    "    indexs0 = np.where(estimator.labels_ == 0) # 标签为0的样本在数组中的下标\n",
    "    cluster0 = samples[tag][indexs0] # 从簇中分出标签为0的新簇\n",
    "    indexs1 = np.where(estimator.labels_ == 1)\n",
    "    cluster1 = samples[tag][indexs1] # 从簇中分出标签为1的新簇\n",
    "    \n",
    "    del samples[tag]\n",
    "    samples.append(cluster0)\n",
    "    samples.append(cluster1)\n",
    "    del SSE[tag]\n",
    "    estimator = KMeans(init='k-means++', n_clusters=1, n_init=n_init).fit(cluster0)\n",
    "    SSE.append(estimator.inertia_) # 新簇的SSE值\n",
    "    estimator = KMeans(init='k-means++', n_clusters=1, n_init=n_init).fit(cluster1)\n",
    "    SSE.append(estimator.inertia_)"
   ]
  },
  {
   "cell_type": "markdown",
   "metadata": {},
   "source": [
    "#### 简单应用示例"
   ]
  },
  {
   "cell_type": "code",
   "execution_count": 23,
   "metadata": {},
   "outputs": [
    {
     "data": {
      "image/png": "[encoded data removed]",
      "text/plain": [
       "<Figure size 432x288 with 1 Axes>"
      ]
     },
     "metadata": {
      "needs_background": "light"
     },
     "output_type": "display_data"
    }
   ],
   "source": [
    "markers = [ 'o', '+', '^', 'x', 'D', '*', 'p' ]\n",
    "colors  = [ 'g', 'r', 'b', 'c', 'm', 'y', 'k' ]\n",
    "linestyle = [ '-', '--', '-.', ':' ]\n",
    "if len(samples) <= len(markers):\n",
    "    for i in range(len(samples)):\n",
    "        plt.scatter(samples[i][:, 0], samples[i][:, 1], marker=markers[i], c=colors[i])\n",
    "    plt.show()"
   ]
  },
  {
   "cell_type": "code",
   "execution_count": null,
   "metadata": {},
   "outputs": [],
   "source": []
  },
  {
   "cell_type": "code",
   "execution_count": null,
   "metadata": {},
   "outputs": [],
   "source": []
  }
 ],
 "metadata": {
  "kernelspec": {
   "display_name": "Python 3",
   "language": "python",
   "name": "python3"
  },
  "language_info": {
   "codemirror_mode": {
    "name": "ipython",
    "version": 3
   },
   "file_extension": ".py",
   "mimetype": "text/x-python",
   "name": "python",
   "nbconvert_exporter": "python",
   "pygments_lexer": "ipython3",
   "version": "3.7.3"
  }
 },
 "nbformat": 4,
 "nbformat_minor": 2
}
