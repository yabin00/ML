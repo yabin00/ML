{
 "cells": [
  {
   "cell_type": "code",
   "execution_count": 1,
   "metadata": {},
   "outputs": [],
   "source": [
    "x = [[4,2], [0,2], [-2,0], [-2,-4]] # 平面上四个点的坐标"
   ]
  },
  {
   "cell_type": "code",
   "execution_count": 7,
   "metadata": {},
   "outputs": [
    {
     "name": "stdout",
     "output_type": "stream",
     "text": [
      "新的轴向量：\n",
      "[[-0.70710678 -0.70710678]\n",
      " [ 0.70710678 -0.70710678]]\n",
      "各维度投影方差占比分布：\n",
      "[0.83333333 0.16666667]\n",
      "各点在新轴上的投影：\n",
      "[[-4.24264069  1.41421356]\n",
      " [-1.41421356 -1.41421356]\n",
      " [ 1.41421356 -1.41421356]\n",
      " [ 4.24264069  1.41421356]]\n"
     ]
    }
   ],
   "source": [
    "from sklearn.decomposition import PCA\n",
    "\n",
    "pca = PCA(n_components=2) # 只旋转不降维\n",
    "pca.fit(x)\n",
    "print(\"新的轴向量：\")\n",
    "print(pca.components_)\n",
    "print(\"各维度投影方差占比分布：\")\n",
    "print(pca.explained_variance_ratio_)\n",
    "print(\"各点在新轴上的投影：\")\n",
    "print(pca.transform(x))"
   ]
  },
  {
   "cell_type": "code",
   "execution_count": 8,
   "metadata": {},
   "outputs": [
    {
     "name": "stdout",
     "output_type": "stream",
     "text": [
      "新的轴向量：\n",
      "[[-0.70710678 -0.70710678]]\n",
      "各维度投影方差占比分布：\n",
      "[0.83333333]\n",
      "各点在新轴上的投影：\n",
      "[[-4.24264069]\n",
      " [-1.41421356]\n",
      " [ 1.41421356]\n",
      " [ 4.24264069]]\n"
     ]
    }
   ],
   "source": [
    "pca = PCA(n_components=1) # 降到一维\n",
    "pca.fit(x)\n",
    "print(\"新的轴向量：\")\n",
    "print(pca.components_)\n",
    "print(\"各维度投影方差占比分布：\")\n",
    "print(pca.explained_variance_ratio_)\n",
    "print(\"各点在新轴上的投影：\")\n",
    "print(pca.transform(x))"
   ]
  },
  {
   "cell_type": "code",
   "execution_count": null,
   "metadata": {},
   "outputs": [],
   "source": []
  }
 ],
 "metadata": {
  "kernelspec": {
   "display_name": "Python 3",
   "language": "python",
   "name": "python3"
  },
  "language_info": {
   "codemirror_mode": {
    "name": "ipython",
    "version": 3
   },
   "file_extension": ".py",
   "mimetype": "text/x-python",
   "name": "python",
   "nbconvert_exporter": "python",
   "pygments_lexer": "ipython3",
   "version": "3.7.4"
  }
 },
 "nbformat": 4,
 "nbformat_minor": 2
}
