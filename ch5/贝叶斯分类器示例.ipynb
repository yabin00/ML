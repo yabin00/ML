{
 "cells": [
  {
   "cell_type": "markdown",
   "metadata": {},
   "source": [
    "## 朴素贝叶斯分类器示例"
   ]
  },
  {
   "cell_type": "code",
   "execution_count": 9,
   "metadata": {},
   "outputs": [],
   "source": [
    "# 训练样本集\n",
    "blind_date_X = [ [35, 176, 0, 20000],\n",
    "                 [28, 178, 1, 10000],\n",
    "                 [26, 172, 0, 25000],\n",
    "                 [29, 173, 2, 20000],\n",
    "                 [28, 174, 0, 15000] ]\n",
    "blind_date_y = [ 0, 1, 0, 1, 1 ]\n",
    "# 测试样本集\n",
    "test_sample = [  [24, 178, 2, 17000],\n",
    "                 [27, 176, 0, 25000],\n",
    "                 [27, 176, 0, 10000]  ]"
   ]
  },
  {
   "cell_type": "code",
   "execution_count": 16,
   "metadata": {},
   "outputs": [
    {
     "name": "stdout",
     "output_type": "stream",
     "text": [
      "[1 0 1]\n"
     ]
    }
   ],
   "source": [
    "# 多项式朴素贝叶斯分类器\n",
    "from sklearn.naive_bayes import MultinomialNB\n",
    "clf = MultinomialNB()\n",
    "clf.fit(blind_date_X, blind_date_y)\n",
    "print(clf.predict(test_sample))"
   ]
  },
  {
   "cell_type": "code",
   "execution_count": 17,
   "metadata": {},
   "outputs": [
    {
     "name": "stdout",
     "output_type": "stream",
     "text": [
      "[[-6.27368844 -4.46273452 -9.34174137 -0.01359574]]\n"
     ]
    }
   ],
   "source": [
    "print(clf.coef_) # 线性函数的斜率"
   ]
  },
  {
   "cell_type": "code",
   "execution_count": 11,
   "metadata": {},
   "outputs": [
    {
     "name": "stdout",
     "output_type": "stream",
     "text": [
      "[1 0 1]\n"
     ]
    }
   ],
   "source": [
    "# 高斯朴素贝叶斯分类器\n",
    "from sklearn.naive_bayes import GaussianNB\n",
    "clf = GaussianNB()\n",
    "clf.fit(blind_date_X, blind_date_y)\n",
    "print(clf.predict(test_sample))"
   ]
  },
  {
   "cell_type": "code",
   "execution_count": 12,
   "metadata": {},
   "outputs": [
    {
     "name": "stdout",
     "output_type": "stream",
     "text": [
      "[0.4 0.6]\n"
     ]
    }
   ],
   "source": [
    "print(clf.class_prior_) # 标签的先验概率"
   ]
  },
  {
   "cell_type": "code",
   "execution_count": 13,
   "metadata": {},
   "outputs": [
    {
     "name": "stdout",
     "output_type": "stream",
     "text": [
      "[2. 3.]\n"
     ]
    }
   ],
   "source": [
    "print(clf.class_count_) # 每个标签的样本数量"
   ]
  },
  {
   "cell_type": "code",
   "execution_count": 14,
   "metadata": {},
   "outputs": [
    {
     "name": "stdout",
     "output_type": "stream",
     "text": [
      "[[3.05000000e+01 1.74000000e+02 0.00000000e+00 2.25000000e+04]\n",
      " [2.83333333e+01 1.75000000e+02 1.00000000e+00 1.50000000e+04]]\n"
     ]
    }
   ],
   "source": [
    "print(clf.theta_) # 高斯模型的期望值"
   ]
  },
  {
   "cell_type": "code",
   "execution_count": 15,
   "metadata": {},
   "outputs": [
    {
     "name": "stdout",
     "output_type": "stream",
     "text": [
      "[[2.02760000e+01 4.02600000e+00 2.60000000e-02 6.25000003e+06]\n",
      " [2.48222222e-01 4.69266667e+00 6.92666667e-01 1.66666667e+07]]\n"
     ]
    }
   ],
   "source": [
    "print(clf.sigma_) # 高斯模型的方差"
   ]
  }
 ],
 "metadata": {
  "kernelspec": {
   "display_name": "Python 3",
   "language": "python",
   "name": "python3"
  },
  "language_info": {
   "codemirror_mode": {
    "name": "ipython",
    "version": 3
   },
   "file_extension": ".py",
   "mimetype": "text/x-python",
   "name": "python",
   "nbconvert_exporter": "python",
   "pygments_lexer": "ipython3",
   "version": "3.7.4"
  }
 },
 "nbformat": 4,
 "nbformat_minor": 2
}
