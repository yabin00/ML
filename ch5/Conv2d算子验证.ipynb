{
 "cells": [
  {
   "cell_type": "markdown",
   "metadata": {},
   "source": [
    "### MindSpore"
   ]
  },
  {
   "cell_type": "code",
   "execution_count": 1,
   "metadata": {},
   "outputs": [],
   "source": [
    "import mindspore\n",
    "import numpy as np\n",
    "import mindspore.nn as nn\n",
    "from mindspore import Tensor\n",
    "input = Tensor(np.ones([1, 1, 4, 4]), mindspore.float32)"
   ]
  },
  {
   "cell_type": "code",
   "execution_count": 2,
   "metadata": {},
   "outputs": [
    {
     "name": "stdout",
     "output_type": "stream",
     "text": [
      "1卷积核，valid边缘填充 (1, 1, 2, 2)\n"
     ]
    }
   ],
   "source": [
    "net = nn.Conv2d(1, 1, 3, has_bias=True, pad_mode='valid') # 1卷积核，valid边缘填充\n",
    "output = net(input).shape\n",
    "print(\"1卷积核，valid边缘填充\", output)"
   ]
  },
  {
   "cell_type": "code",
   "execution_count": 3,
   "metadata": {},
   "outputs": [
    {
     "name": "stdout",
     "output_type": "stream",
     "text": [
      "5卷积核，valid边缘填充 (1, 5, 2, 2)\n"
     ]
    }
   ],
   "source": [
    "net = nn.Conv2d(1, 5, 3, has_bias=True, pad_mode='valid') # 5卷积核，valid边缘填充\n",
    "output = net(input).shape\n",
    "print(\"5卷积核，valid边缘填充\", output)"
   ]
  },
  {
   "cell_type": "code",
   "execution_count": 4,
   "metadata": {},
   "outputs": [
    {
     "name": "stdout",
     "output_type": "stream",
     "text": [
      "1卷积核，same边缘填充 (1, 1, 4, 4)\n"
     ]
    }
   ],
   "source": [
    "net = nn.Conv2d(1, 1, 3, has_bias=True, pad_mode='same') # 1卷积核，same边缘填充\n",
    "output = net(input).shape\n",
    "print(\"1卷积核，same边缘填充\", output)"
   ]
  },
  {
   "cell_type": "code",
   "execution_count": 5,
   "metadata": {},
   "outputs": [
    {
     "name": "stdout",
     "output_type": "stream",
     "text": [
      "1卷积核，pad边缘填充 (1, 1, 2, 2)\n"
     ]
    }
   ],
   "source": [
    "net = nn.Conv2d(1, 1, 3, has_bias=True, pad_mode='pad') # 1卷积核，pad边缘填充\n",
    "output = net(input).shape\n",
    "print(\"1卷积核，pad边缘填充\", output)"
   ]
  },
  {
   "cell_type": "markdown",
   "metadata": {},
   "source": [
    "### TensorFlow2 "
   ]
  },
  {
   "cell_type": "code",
   "execution_count": 6,
   "metadata": {},
   "outputs": [],
   "source": [
    "import tensorflow as tf\n",
    "import tensorflow.keras as keras\n",
    "input_shape = (1, 4, 4, 1)\n",
    "x = tf.random.normal(input_shape)"
   ]
  },
  {
   "cell_type": "code",
   "execution_count": 7,
   "metadata": {},
   "outputs": [
    {
     "name": "stdout",
     "output_type": "stream",
     "text": [
      "1卷积核，valid边缘填充 (1, 2, 2, 1)\n"
     ]
    }
   ],
   "source": [
    "network = keras.layers.Conv2D(1, 3, activation='relu', padding=\"valid\", input_shape=input_shape[1:])\n",
    "y = network(x)\n",
    "print(\"1卷积核，valid边缘填充\", y.shape)"
   ]
  },
  {
   "cell_type": "code",
   "execution_count": 8,
   "metadata": {},
   "outputs": [
    {
     "name": "stdout",
     "output_type": "stream",
     "text": [
      "1卷积核，same边缘填充 (1, 4, 4, 1)\n"
     ]
    }
   ],
   "source": [
    "network = keras.layers.Conv2D(1, 3, activation='relu', padding=\"same\", input_shape=input_shape[1:])\n",
    "y = network(x)\n",
    "print(\"1卷积核，same边缘填充\", y.shape)"
   ]
  },
  {
   "cell_type": "code",
   "execution_count": 9,
   "metadata": {},
   "outputs": [
    {
     "name": "stdout",
     "output_type": "stream",
     "text": [
      "5卷积核，valid边缘填充 (1, 2, 2, 5)\n"
     ]
    }
   ],
   "source": [
    "network = keras.layers.Conv2D(5, 3, activation='relu', padding=\"valid\", input_shape=input_shape[1:])\n",
    "y = network(x)\n",
    "print(\"5卷积核，valid边缘填充\", y.shape)"
   ]
  },
  {
   "cell_type": "code",
   "execution_count": null,
   "metadata": {},
   "outputs": [],
   "source": []
  }
 ],
 "metadata": {
  "kernelspec": {
   "display_name": "Python 3 (ipykernel)",
   "language": "python",
   "name": "python3"
  },
  "language_info": {
   "codemirror_mode": {
    "name": "ipython",
    "version": 3
   },
   "file_extension": ".py",
   "mimetype": "text/x-python",
   "name": "python",
   "nbconvert_exporter": "python",
   "pygments_lexer": "ipython3",
   "version": "3.8.0"
  }
 },
 "nbformat": 4,
 "nbformat_minor": 2
}
