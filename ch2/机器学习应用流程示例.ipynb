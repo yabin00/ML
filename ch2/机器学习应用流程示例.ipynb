{
 "cells": [
  {
   "cell_type": "markdown",
   "metadata": {},
   "source": [
    "##### 训练数据和测试数据"
   ]
  },
  {
   "cell_type": "code",
   "execution_count": 1,
   "metadata": {},
   "outputs": [
    {
     "data": {
      "text/plain": [
       "30"
      ]
     },
     "execution_count": 1,
     "metadata": {},
     "output_type": "execute_result"
    }
   ],
   "source": [
    "# 训练数据分项依次为：年，月，日，性别（1男，0女），是否购物（1购，0不购）\n",
    "train_data = [ [2020, 11, 1, 1, 1],\n",
    "               [2020, 11, 1, 0, 1],\n",
    "               [2020, 11, 1, 0, 1],\n",
    "               [2020, 11, 1, -1, 1],\n",
    "               [2020, 11, 1, 1, 1],\n",
    "               [2020, 11, 1, 0, 1],\n",
    "               [2020, 11, 1, 0, 0],\n",
    "               [2020, 11, 1, 0, 1],\n",
    "               [2020, 11, 2, 1, 0],\n",
    "               [2020, 11, 2, 1, 1],\n",
    "               [2020, 11, 2, 0, 0],\n",
    "               [2020, 11, 2, 1, 1],\n",
    "               [2020, 11, 3, 0, 0],\n",
    "               [2020, 11, 3, 0, 0],\n",
    "               [2020, 11, 4, 1, 0],\n",
    "               [2020, 11, 4, 0, 1],\n",
    "               [2020, 11, 5, 0, 0],\n",
    "               [2020, 11, 5, 0, 0],\n",
    "               [2020, 11, 6, 1, 1],\n",
    "               [2020, 11, 6, 1, 1],\n",
    "               [2020, 11, 7, 0, 0],\n",
    "               [2020, 11, 7, 1, 0],\n",
    "               [2020, 11, 7, 0, 1],\n",
    "               [2020, 11, 7, 0, 1],\n",
    "               [2020, 11, 8, 1, 1],\n",
    "               [2020, 11, 8, 0, 1],\n",
    "               [2020, 11, 9, 0, 0],\n",
    "               [2020, 11, 9, 0, 0],\n",
    "               [2020, 11, 10, 1, 1],\n",
    "               [2020, 11, 11, 1, 0],\n",
    "               [2020, 11, 11, 1, -1],\n",
    "               [2020, 11, 12, 0, 0]]\n",
    "# 测试数据\n",
    "test_data = [  [2020, 11, 11, 1],\n",
    "               [2020, 11, 14, 0],\n",
    "               [2020, 11, 15, 0],\n",
    "               [2020, 11, 16, 1],\n",
    "               [2020, 11, 18, 0],\n",
    "               [2020, 11, 19, 1]]\n",
    "# 清除不合格数据\n",
    "del train_data[30]\n",
    "del train_data[3]\n",
    "len(train_data)"
   ]
  },
  {
   "cell_type": "code",
   "execution_count": 2,
   "metadata": {},
   "outputs": [],
   "source": [
    "# 将训练数据切分为训练集和验证集\n",
    "train_set = [] # 训练集\n",
    "train_labels = [] # 训练集的标签\n",
    "valid_set = [] # 验证集\n",
    "valid_labels = [] # 验证集的标签\n",
    "for i in range(len(train_data)):\n",
    "    if i < 20: # 将训练数据的前20条作为训练集，后10条作为验证集\n",
    "        train_set.append( train_data[i][:4])\n",
    "        train_labels.append(train_data[i][4])\n",
    "    else:\n",
    "        valid_set.append( train_data[i][:4])\n",
    "        valid_labels.append(train_data[i][4])"
   ]
  },
  {
   "cell_type": "markdown",
   "metadata": {},
   "source": [
    "##### 用原始数据来训练模型"
   ]
  },
  {
   "cell_type": "code",
   "execution_count": 3,
   "metadata": {},
   "outputs": [
    {
     "name": "stdout",
     "output_type": "stream",
     "text": [
      "[0, 1, 1, 1, 1, 0, 0, 1, 0, 0]\n",
      "[1 0 0 1 0 0 0 1 1 0]\n"
     ]
    }
   ],
   "source": [
    "from sklearn import tree # 导入决策树库\n",
    "clf = tree.DecisionTreeClassifier() # 创建一个分类决策树对象\n",
    "clf = clf.fit(train_set, train_labels) # 训练模型\n",
    "print(valid_labels)\n",
    "print(clf.predict(valid_set)) # 用训练好的模型来预测验证集，验证误差率为0.5"
   ]
  },
  {
   "cell_type": "code",
   "execution_count": 4,
   "metadata": {},
   "outputs": [
    {
     "name": "stdout",
     "output_type": "stream",
     "text": [
      "[1 0 0 1 0 1]\n"
     ]
    }
   ],
   "source": [
    "print(clf.predict(test_data)) # 用训练好的模型来预测测试集"
   ]
  },
  {
   "cell_type": "markdown",
   "metadata": {},
   "source": [
    "##### 提取是否周末特征，生成新训练集和验证集"
   ]
  },
  {
   "cell_type": "code",
   "execution_count": 5,
   "metadata": {},
   "outputs": [
    {
     "data": {
      "text/plain": [
       "1"
      ]
     },
     "execution_count": 5,
     "metadata": {},
     "output_type": "execute_result"
    }
   ],
   "source": [
    "import datetime # 导入datetime模块，该模块用来处理与日期和时间有关的计算\n",
    "\n",
    "# 定义一个判断是否为周末的函数\n",
    "def isweekend( date ): \n",
    "    theday = datetime.date( date[0], date[1], date[2] ) # 创建一个date对象\n",
    "    if theday.isoweekday() in { 6, 7 }: # 如果date是周末则返回1，否则返回0\n",
    "        return 1\n",
    "    else:\n",
    "        return 0\n",
    "isweekend([2020, 11, 15])"
   ]
  },
  {
   "cell_type": "code",
   "execution_count": 6,
   "metadata": {},
   "outputs": [],
   "source": [
    "# 提取出是否周末的特征，加上性别，作为训练数据，然后切分训练集和验证集\n",
    "train_set1 = []\n",
    "valid_set1 = []\n",
    "for i in range(len(train_data)):\n",
    "    if i < 20:\n",
    "        weekend = isweekend(train_data[i][:3])\n",
    "        train_set1.append( [weekend, train_data[i][3]] )\n",
    "    else:\n",
    "        weekend = isweekend(train_data[i][:3])\n",
    "        valid_set1.append( [weekend, train_data[i][3]] )"
   ]
  },
  {
   "cell_type": "markdown",
   "metadata": {},
   "source": [
    "##### 训练新的模型"
   ]
  },
  {
   "cell_type": "code",
   "execution_count": 7,
   "metadata": {},
   "outputs": [],
   "source": [
    "clf = clf.fit(train_set1, train_labels)"
   ]
  },
  {
   "cell_type": "code",
   "execution_count": 8,
   "metadata": {},
   "outputs": [
    {
     "name": "stdout",
     "output_type": "stream",
     "text": [
      "[0, 1, 1, 1, 1, 0, 0, 1, 0, 0]\n",
      "[1 1 1 1 1 0 0 1 1 0]\n"
     ]
    }
   ],
   "source": [
    "print(valid_labels)\n",
    "print(clf.predict(valid_set1)) # 验证误差率为0.2"
   ]
  },
  {
   "cell_type": "code",
   "execution_count": 9,
   "metadata": {},
   "outputs": [
    {
     "name": "stdout",
     "output_type": "stream",
     "text": [
      "[1 1 1 1 0 1]\n"
     ]
    }
   ],
   "source": [
    "test_set1 = []\n",
    "for i in range(len(test_data)): # 对测试数据也要进行相同的特征提取生成测试集\n",
    "    weekend = isweekend(test_data[i][:3])\n",
    "    test_set1.append( [weekend, test_data[i][3]] )\n",
    "print(clf.predict(test_set1))"
   ]
  },
  {
   "cell_type": "code",
   "execution_count": null,
   "metadata": {},
   "outputs": [],
   "source": []
  }
 ],
 "metadata": {
  "kernelspec": {
   "display_name": "Python 3 (ipykernel)",
   "language": "python",
   "name": "python3"
  },
  "language_info": {
   "codemirror_mode": {
    "name": "ipython",
    "version": 3
   },
   "file_extension": ".py",
   "mimetype": "text/x-python",
   "name": "python",
   "nbconvert_exporter": "python",
   "pygments_lexer": "ipython3",
   "version": "3.8.0"
  }
 },
 "nbformat": 4,
 "nbformat_minor": 2
}
