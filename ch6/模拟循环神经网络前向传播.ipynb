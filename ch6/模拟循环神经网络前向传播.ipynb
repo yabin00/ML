{
 "cells": [
  {
   "cell_type": "code",
   "execution_count": 8,
   "metadata": {},
   "outputs": [],
   "source": [
    "# (批大小, 步长数, 序列分量维数)\n",
    "batch_size = 1\n",
    "time_step = 2\n",
    "step_dim = 3\n",
    "\n",
    "hidden_dim = 2  # 隐藏层维度"
   ]
  },
  {
   "cell_type": "markdown",
   "metadata": {},
   "source": [
    "### Tensorflow2框架下模拟 "
   ]
  },
  {
   "cell_type": "code",
   "execution_count": null,
   "metadata": {},
   "outputs": [],
   "source": [
    "import tensorflow as tf\n",
    "import tensorflow.keras as keras"
   ]
  },
  {
   "cell_type": "code",
   "execution_count": 2,
   "metadata": {},
   "outputs": [
    {
     "name": "stdout",
     "output_type": "stream",
     "text": [
      "out1: tf.Tensor([[-0.3746375   0.00579598]], shape=(1, 2), dtype=float32)\n",
      "s1: [<tf.Tensor: shape=(1, 2), dtype=float32, numpy=array([[-0.3746375 ,  0.00579598]], dtype=float32)>]\n"
     ]
    }
   ],
   "source": [
    "s0 = tf.constant([[0.0, 0.0]]) # 第1步输入的隐状态\n",
    "x1 = tf.constant([[0.1, 0.2, 0.3]]) # 第1步输入的序列分量\n",
    "simpleRnnCell = tf.keras.layers.SimpleRNNCell(hidden_dim, use_bias=False)\n",
    "out1,s1 = simpleRnnCell(x1, [s0]) # 将当前步的x和上一步的隐状态输入到单元中，产生第1步的输出和隐状态\n",
    "print(\"out1:\", out1)\n",
    "print(\"s1:\", s1)"
   ]
  },
  {
   "cell_type": "code",
   "execution_count": 3,
   "metadata": {},
   "outputs": [
    {
     "name": "stdout",
     "output_type": "stream",
     "text": [
      "out2: tf.Tensor([[-0.2241037   0.00181398]], shape=(1, 2), dtype=float32)\n",
      "s2: [<tf.Tensor: shape=(1, 2), dtype=float32, numpy=array([[-0.2241037 ,  0.00181398]], dtype=float32)>]\n"
     ]
    }
   ],
   "source": [
    "x2 = tf.constant([[0.2, 0.3, 0.4]]) # 第2步输入的序列分量\n",
    "out2,s2 = simpleRnnCell(x2, [s1[0]]) # 将当前步的x和上一步的隐状态输入到单元中，产生第2步的输出和隐状态\n",
    "print(\"out2:\", out2)\n",
    "print(\"s2:\", s2)"
   ]
  },
  {
   "cell_type": "markdown",
   "metadata": {},
   "source": [
    "#### 下面验证前向传播的计算结果"
   ]
  },
  {
   "cell_type": "code",
   "execution_count": 4,
   "metadata": {},
   "outputs": [],
   "source": [
    "# 将内部系数全部初始化为1\n",
    "simpleRnnCell = tf.keras.layers.SimpleRNNCell(hidden_dim, kernel_initializer='ones', \n",
    "                                              recurrent_initializer='ones', use_bias=False)"
   ]
  },
  {
   "cell_type": "code",
   "execution_count": 5,
   "metadata": {},
   "outputs": [
    {
     "name": "stdout",
     "output_type": "stream",
     "text": [
      "out1: tf.Tensor([[0.53704965 0.53704965]], shape=(1, 2), dtype=float32)\n",
      "s1: [<tf.Tensor: shape=(1, 2), dtype=float32, numpy=array([[0.53704965, 0.53704965]], dtype=float32)>]\n"
     ]
    }
   ],
   "source": [
    "out1,s1 = simpleRnnCell(x1, [s0]) # 将当前步的x和上一步的隐状态输入到单元中，产生第1步的输出和隐状态\n",
    "print(\"out1:\", out1)\n",
    "print(\"s1:\", s1)"
   ]
  },
  {
   "cell_type": "markdown",
   "metadata": {},
   "source": [
    "$s_s$为（0，0），$s_x$为（0.6，0.6），因此，$s=tanh(0.6,0.6)$。下面验算一下$tanh(0.6)$"
   ]
  },
  {
   "cell_type": "code",
   "execution_count": 6,
   "metadata": {},
   "outputs": [
    {
     "data": {
      "text/plain": [
       "0.5370495669980353"
      ]
     },
     "execution_count": 6,
     "metadata": {},
     "output_type": "execute_result"
    }
   ],
   "source": [
    "import math\n",
    "math.tanh(0.6)"
   ]
  },
  {
   "cell_type": "markdown",
   "metadata": {},
   "source": [
    "可见计算结果是符合预期的。下面给出第2步计算结果，请读者自行验证。"
   ]
  },
  {
   "cell_type": "code",
   "execution_count": 7,
   "metadata": {},
   "outputs": [
    {
     "name": "stdout",
     "output_type": "stream",
     "text": [
      "out2: tf.Tensor([[0.9621513 0.9621513]], shape=(1, 2), dtype=float32)\n",
      "s2: [<tf.Tensor: shape=(1, 2), dtype=float32, numpy=array([[0.9621513, 0.9621513]], dtype=float32)>]\n"
     ]
    }
   ],
   "source": [
    "out2,s2 = simpleRnnCell(x2, [s1[0]]) # 将当前步的x和上一步的隐状态输入到单元中，产生第2步的输出和隐状态\n",
    "print(\"out2:\", out2)\n",
    "print(\"s2:\", s2)"
   ]
  },
  {
   "cell_type": "markdown",
   "metadata": {},
   "source": [
    "### MindSpore框架下模拟 "
   ]
  },
  {
   "cell_type": "markdown",
   "metadata": {},
   "source": [
    "MindSpore中实现基本单元的是mindspore.nn.RNNCell，原型如下：\n",
    "classmindspore.nn.RNNCell(input_size: int, hidden_size: int, has_bias: bool = True, nonlinearity: str = 'tanh')\n",
    "官网：https://www.mindspore.cn/docs/zh-CN/r1.7/api_python/nn/mindspore.nn.RNNCell.html#mindspore.nn.RNNCell"
   ]
  },
  {
   "cell_type": "code",
   "execution_count": 5,
   "metadata": {},
   "outputs": [],
   "source": [
    "import mindspore as ms\n",
    "import mindspore.nn as nn\n",
    "import numpy as np"
   ]
  },
  {
   "cell_type": "code",
   "execution_count": 24,
   "metadata": {},
   "outputs": [],
   "source": [
    "net = nn.RNNCell(step_dim, hidden_dim, has_bias=False) # MindSpore框架中的基本单元实现"
   ]
  },
  {
   "cell_type": "code",
   "execution_count": 26,
   "metadata": {},
   "outputs": [],
   "source": [
    "hx0 = ms.Tensor(np.array([[0.0, 0.0]]).astype(np.float32)) # 第1步输入的隐状态\n",
    "x1 = ms.Tensor(np.array([[0.1, 0.2, 0.3]]).astype(np.float32)) # 第1步输入的序列分量"
   ]
  },
  {
   "cell_type": "code",
   "execution_count": 27,
   "metadata": {},
   "outputs": [],
   "source": [
    "hx1 = net(x1, hx0) # # 将当前步的x和上一步的隐状态输入到单元中，产生第1步的隐状态"
   ]
  },
  {
   "cell_type": "code",
   "execution_count": 28,
   "metadata": {},
   "outputs": [
    {
     "data": {
      "text/plain": [
       "Tensor(shape=[1, 2], dtype=Float32, value=\n",
       "[[-1.28096893e-001, -1.92629993e-001]])"
      ]
     },
     "execution_count": 28,
     "metadata": {},
     "output_type": "execute_result"
    }
   ],
   "source": [
    "hx1 # 输出的隐状态是2维大小的"
   ]
  },
  {
   "cell_type": "markdown",
   "metadata": {},
   "source": [
    "读者可自行练习书中第二步的馈入与输出。。。"
   ]
  },
  {
   "cell_type": "code",
   "execution_count": null,
   "metadata": {},
   "outputs": [],
   "source": []
  }
 ],
 "metadata": {
  "kernelspec": {
   "display_name": "Python 3 (ipykernel)",
   "language": "python",
   "name": "python3"
  },
  "language_info": {
   "codemirror_mode": {
    "name": "ipython",
    "version": 3
   },
   "file_extension": ".py",
   "mimetype": "text/x-python",
   "name": "python",
   "nbconvert_exporter": "python",
   "pygments_lexer": "ipython3",
   "version": "3.8.0"
  }
 },
 "nbformat": 4,
 "nbformat_minor": 2
}
