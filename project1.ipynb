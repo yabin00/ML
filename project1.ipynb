{
 "cells": [
  {
   "cell_type": "markdown",
   "id": "dcb02b8c",
   "metadata": {},
   "source": [
    "### 任务1：\n",
    "### 平面上有以下五个点：（1，2）、（2，4）、（1，-1）、（2，5）、（0，-3），用kmeans算法对其进行簇数为2的聚类，初始簇中心为（0，0）、（5，5），给出经过1轮迭代和2轮迭代后的簇中心坐标。"
   ]
  },
  {
   "cell_type": "markdown",
   "id": "0961704b",
   "metadata": {},
   "source": [
    "#### 1.导入相关的库"
   ]
  },
  {
   "cell_type": "code",
   "execution_count": 18,
   "id": "bf716fe7",
   "metadata": {},
   "outputs": [],
   "source": [
    "import numpy as np  \n",
    "from sklearn.cluster import KMeans \n",
    "import matplotlib.pyplot as plt\n"
   ]
  },
  {
   "cell_type": "markdown",
   "id": "2ca057e8",
   "metadata": {},
   "source": [
    "#### 2.定义点的数据集和初始簇中心"
   ]
  },
  {
   "cell_type": "code",
   "execution_count": 19,
   "id": "b607a97f",
   "metadata": {},
   "outputs": [],
   "source": [
    "data = np.array([[1, 2], [2, 4], [1, -1], [2, 5], [0, -3]])  \n",
    "initial_centers = np.array([[0, 0], [5, 5]]) "
   ]
  },
  {
   "cell_type": "markdown",
   "id": "21d03511",
   "metadata": {},
   "source": [
    "#### 3.使用kmeans算法进行聚类\n",
    "kmeans=KMeans(n_clusters=8, init=’k-means++’, n_init=10, max_iter=300) \n",
    "#修改默认kmeans类中的参数值\\\n",
    "注意：n_init设置为10，则对初始簇中心的选择进行重复的次数为10，选择其中效果最好的一次结果。\\\n",
    "kmeans只能查看最终迭代后的簇中心坐标"
   ]
  },
  {
   "cell_type": "code",
   "execution_count": 20,
   "id": "70f94451",
   "metadata": {},
   "outputs": [],
   "source": [
    "n_clusters = 2\n",
    "n_init = 1\n",
    "estimator = KMeans(init='k-means++',n_clusters=n_clusters,n_init=n_init)"
   ]
  },
  {
   "cell_type": "markdown",
   "id": "c8c75564",
   "metadata": {},
   "source": [
    "#### 4.获取迭代1次的簇中心坐标"
   ]
  },
  {
   "cell_type": "code",
   "execution_count": 21,
   "id": "7338fb5b",
   "metadata": {},
   "outputs": [
    {
     "name": "stdout",
     "output_type": "stream",
     "text": [
      "初始簇中心\n",
      "[[0 0]\n",
      " [5 5]]\n",
      "\n",
      "第一次聚类簇中心\n",
      "[[ 1.66666667  3.66666667]\n",
      " [ 0.5        -2.        ]]\n"
     ]
    }
   ],
   "source": [
    "estimator.fit(data)\n",
    "estimator.cluster_centers_ = initial_centers #指定簇中心\n",
    "centers1 = estimator.cluster_centers_ \n",
    "print(\"初始簇中心\"+\"\\n\"+str(centers1)+\"\\n\")\n",
    "n_clusters = 2\n",
    "n_init = 2\n",
    "estimator = KMeans(init='k-means++',n_clusters=n_clusters,n_init=n_init)#第一次聚类\n",
    "estimator.fit(data)\n",
    "print(\"第一次聚类簇中心\"+\"\\n\"+str(estimator.cluster_centers_ ))"
   ]
  },
  {
   "cell_type": "markdown",
   "id": "0bed42a7",
   "metadata": {},
   "source": [
    "#### 5.获取迭代2次的簇中心坐标"
   ]
  },
  {
   "cell_type": "code",
   "execution_count": 22,
   "id": "e3a1cae5",
   "metadata": {},
   "outputs": [
    {
     "name": "stdout",
     "output_type": "stream",
     "text": [
      "第二次聚类簇中心\n",
      "[[ 0.5        -2.        ]\n",
      " [ 1.66666667  3.66666667]]\n"
     ]
    }
   ],
   "source": [
    "n_clusters = 2\n",
    "n_init = 3\n",
    "estimator = KMeans(init='k-means++',n_clusters=n_clusters,n_init=n_init)\n",
    "estimator.fit(data)\n",
    "centers2 = estimator.cluster_centers_\n",
    "print(\"第二次聚类簇中心\"+\"\\n\"+str(centers2))"
   ]
  },
  {
   "cell_type": "markdown",
   "id": "66bf3bfc",
   "metadata": {},
   "source": [
    "#### 6.可视化原有5个点与最终的簇中心\n",
    "使用散点图画出data的x坐标和y坐标，以及簇中心的x坐标和y坐标<br>\n",
    "提示：plt.scatter(data[:, 0], data[:, 1], c=kmeans.labels_)"
   ]
  },
  {
   "cell_type": "code",
   "execution_count": 23,
   "id": "758b6fe9",
   "metadata": {},
   "outputs": [
    {
     "data": {
      "image/png": "[encoded data removed]",
      "text/plain": [
       "<Figure size 640x480 with 1 Axes>"
      ]
     },
     "metadata": {},
     "output_type": "display_data"
    }
   ],
   "source": [
    "plt.scatter(data[:, 0], data[:, 1], c=estimator.labels_,linewidths=3)\n",
    "plt.scatter(estimator.cluster_centers_[:, 0], estimator.cluster_centers_[:, 1], c='red', marker='x')\n",
    "plt.show()"
   ]
  },
  {
   "cell_type": "markdown",
   "id": "2ca34325",
   "metadata": {},
   "source": [
    "### 任务2：\n",
    "### 现有253个A股上市公司某一时期财务指标数据，这5个变量分别是：企业规模、企业净利润、资产负债率、流动资产周转率、营业收入增长率。利用已有数据，对253个上市公司进行聚类。"
   ]
  },
  {
   "cell_type": "markdown",
   "id": "cdfd7258",
   "metadata": {},
   "source": [
    "#### 1.导入相关的库（numpy、pandas、matplotlib、sklearn中的KMeans）"
   ]
  },
  {
   "cell_type": "code",
   "execution_count": 24,
   "id": "cc771765",
   "metadata": {},
   "outputs": [],
   "source": [
    "import numpy as np\n",
    "import matplotlib.pyplot as plt\n",
    "from sklearn.cluster import KMeans\n",
    "import pandas as pd \n",
    "from sklearn.preprocessing import MinMaxScaler"
   ]
  },
  {
   "cell_type": "markdown",
   "id": "1969f35b",
   "metadata": {},
   "source": [
    "#### 2.采集数据：从Excel文件中读取了包含253个A股上市公司某一时期财务指标的数据集 \n",
    "\n",
    "data=pd.read_excel（‘文件名的路径’）"
   ]
  },
  {
   "cell_type": "code",
   "execution_count": 25,
   "id": "96ad6e68",
   "metadata": {},
   "outputs": [
    {
     "data": {
      "text/html": [
       "<div>\n",
       "<style scoped>\n",
       "    .dataframe tbody tr th:only-of-type {\n",
       "        vertical-align: middle;\n",
       "    }\n",
       "\n",
       "    .dataframe tbody tr th {\n",
       "        vertical-align: top;\n",
       "    }\n",
       "\n",
       "    .dataframe thead th {\n",
       "        text-align: right;\n",
       "    }\n",
       "</style>\n",
       "<table border=\"1\" class=\"dataframe\">\n",
       "  <thead>\n",
       "    <tr style=\"text-align: right;\">\n",
       "      <th></th>\n",
       "      <th>股票简称</th>\n",
       "      <th>企业规模（百万）</th>\n",
       "      <th>企业净利润（百万）</th>\n",
       "      <th>资产负债率</th>\n",
       "      <th>流动资产周转率A</th>\n",
       "      <th>营业收入增长率A</th>\n",
       "    </tr>\n",
       "  </thead>\n",
       "  <tbody>\n",
       "    <tr>\n",
       "      <th>0</th>\n",
       "      <td>*ST 爱迪</td>\n",
       "      <td>4525.654112</td>\n",
       "      <td>-28830.865296</td>\n",
       "      <td>0.419116</td>\n",
       "      <td>0.561476</td>\n",
       "      <td>-0.548441</td>\n",
       "    </tr>\n",
       "    <tr>\n",
       "      <th>1</th>\n",
       "      <td>*ST 柏龙</td>\n",
       "      <td>2703.951157</td>\n",
       "      <td>11649.754521</td>\n",
       "      <td>0.271789</td>\n",
       "      <td>0.442287</td>\n",
       "      <td>0.044020</td>\n",
       "    </tr>\n",
       "    <tr>\n",
       "      <th>2</th>\n",
       "      <td>*ST 东洋</td>\n",
       "      <td>3843.094778</td>\n",
       "      <td>7384.060379</td>\n",
       "      <td>0.248809</td>\n",
       "      <td>0.408842</td>\n",
       "      <td>0.417830</td>\n",
       "    </tr>\n",
       "    <tr>\n",
       "      <th>3</th>\n",
       "      <td>*ST 广田</td>\n",
       "      <td>24444.193026</td>\n",
       "      <td>13259.965670</td>\n",
       "      <td>0.711313</td>\n",
       "      <td>0.609233</td>\n",
       "      <td>0.180005</td>\n",
       "    </tr>\n",
       "    <tr>\n",
       "      <th>4</th>\n",
       "      <td>*ST 海投</td>\n",
       "      <td>6613.278572</td>\n",
       "      <td>34612.345490</td>\n",
       "      <td>0.274570</td>\n",
       "      <td>0.063739</td>\n",
       "      <td>-0.087500</td>\n",
       "    </tr>\n",
       "  </tbody>\n",
       "</table>\n",
       "</div>"
      ],
      "text/plain": [
       "     股票简称      企业规模（百万）     企业净利润（百万）     资产负债率  流动资产周转率A  营业收入增长率A\n",
       "0  *ST 爱迪   4525.654112 -28830.865296  0.419116  0.561476 -0.548441\n",
       "1  *ST 柏龙   2703.951157  11649.754521  0.271789  0.442287  0.044020\n",
       "2  *ST 东洋   3843.094778   7384.060379  0.248809  0.408842  0.417830\n",
       "3  *ST 广田  24444.193026  13259.965670  0.711313  0.609233  0.180005\n",
       "4  *ST 海投   6613.278572  34612.345490  0.274570  0.063739 -0.087500"
      ]
     },
     "execution_count": 25,
     "metadata": {},
     "output_type": "execute_result"
    }
   ],
   "source": [
    "data=pd.read_excel('上市公司财务指标.xlsx')\n",
    "data1=data.head(5)\n",
    "data1"
   ]
  },
  {
   "cell_type": "markdown",
   "id": "70f2b8f6",
   "metadata": {},
   "source": [
    "#### 3.提取特征向量：提取除“股票简称”以外的特征列（剩下5个变量）\n",
    "\n",
    "features=data.iloc[?,?]"
   ]
  },
  {
   "cell_type": "code",
   "execution_count": 26,
   "id": "da630eab",
   "metadata": {},
   "outputs": [
    {
     "data": {
      "text/html": [
       "<div>\n",
       "<style scoped>\n",
       "    .dataframe tbody tr th:only-of-type {\n",
       "        vertical-align: middle;\n",
       "    }\n",
       "\n",
       "    .dataframe tbody tr th {\n",
       "        vertical-align: top;\n",
       "    }\n",
       "\n",
       "    .dataframe thead th {\n",
       "        text-align: right;\n",
       "    }\n",
       "</style>\n",
       "<table border=\"1\" class=\"dataframe\">\n",
       "  <thead>\n",
       "    <tr style=\"text-align: right;\">\n",
       "      <th></th>\n",
       "      <th>企业规模（百万）</th>\n",
       "      <th>企业净利润（百万）</th>\n",
       "      <th>资产负债率</th>\n",
       "      <th>流动资产周转率A</th>\n",
       "      <th>营业收入增长率A</th>\n",
       "    </tr>\n",
       "  </thead>\n",
       "  <tbody>\n",
       "    <tr>\n",
       "      <th>0</th>\n",
       "      <td>4525.654112</td>\n",
       "      <td>-28830.865296</td>\n",
       "      <td>0.419116</td>\n",
       "      <td>0.561476</td>\n",
       "      <td>-0.548441</td>\n",
       "    </tr>\n",
       "    <tr>\n",
       "      <th>1</th>\n",
       "      <td>2703.951157</td>\n",
       "      <td>11649.754521</td>\n",
       "      <td>0.271789</td>\n",
       "      <td>0.442287</td>\n",
       "      <td>0.044020</td>\n",
       "    </tr>\n",
       "    <tr>\n",
       "      <th>2</th>\n",
       "      <td>3843.094778</td>\n",
       "      <td>7384.060379</td>\n",
       "      <td>0.248809</td>\n",
       "      <td>0.408842</td>\n",
       "      <td>0.417830</td>\n",
       "    </tr>\n",
       "    <tr>\n",
       "      <th>3</th>\n",
       "      <td>24444.193026</td>\n",
       "      <td>13259.965670</td>\n",
       "      <td>0.711313</td>\n",
       "      <td>0.609233</td>\n",
       "      <td>0.180005</td>\n",
       "    </tr>\n",
       "    <tr>\n",
       "      <th>4</th>\n",
       "      <td>6613.278572</td>\n",
       "      <td>34612.345490</td>\n",
       "      <td>0.274570</td>\n",
       "      <td>0.063739</td>\n",
       "      <td>-0.087500</td>\n",
       "    </tr>\n",
       "  </tbody>\n",
       "</table>\n",
       "</div>"
      ],
      "text/plain": [
       "       企业规模（百万）     企业净利润（百万）     资产负债率  流动资产周转率A  营业收入增长率A\n",
       "0   4525.654112 -28830.865296  0.419116  0.561476 -0.548441\n",
       "1   2703.951157  11649.754521  0.271789  0.442287  0.044020\n",
       "2   3843.094778   7384.060379  0.248809  0.408842  0.417830\n",
       "3  24444.193026  13259.965670  0.711313  0.609233  0.180005\n",
       "4   6613.278572  34612.345490  0.274570  0.063739 -0.087500"
      ]
     },
     "execution_count": 26,
     "metadata": {},
     "output_type": "execute_result"
    }
   ],
   "source": [
    "features = pd.DataFrame(data,columns=['企业规模（百万）','企业净利润（百万）','资产负债率','流动资产周转率A','营业收入增长率A'])\n",
    "# features = features.dropna()\n",
    "features1=features.head(5)\n",
    "features1"
   ]
  },
  {
   "cell_type": "markdown",
   "id": "eb48cc07",
   "metadata": {},
   "source": [
    "#### 4.数据预处理：标准化（归一化）特征向量 \n",
    "\n",
    "scaled_features=MinMaxScaler().fit_transform(features)"
   ]
  },
  {
   "cell_type": "code",
   "execution_count": 27,
   "id": "6b2c0ca3",
   "metadata": {},
   "outputs": [
    {
     "data": {
      "text/plain": [
       "array([[0.01183218, 0.3635962 , 0.41237248, 0.04413694, 0.12742651],\n",
       "       [0.00665601, 0.39040903, 0.26222419, 0.03398474, 0.16398963],\n",
       "       [0.00989276, 0.38758359, 0.23880413, 0.03113598, 0.18705893],\n",
       "       ...,\n",
       "       [0.01244775, 0.39331172, 0.53885509, 0.08008586, 0.16245307],\n",
       "       [0.01082028, 0.39329508, 0.2147471 , 0.05314844, 0.1567362 ],\n",
       "       [0.00131521, 0.3828403 , 0.22178331, 0.04573503, 0.15785156]])"
      ]
     },
     "execution_count": 27,
     "metadata": {},
     "output_type": "execute_result"
    }
   ],
   "source": [
    "scaled_features=MinMaxScaler().fit_transform(features)\n",
    "scaled_features"
   ]
  },
  {
   "cell_type": "markdown",
   "id": "d90f86d5",
   "metadata": {},
   "source": [
    "#### 5.使用Kmeans算法训练数据 \n",
    "\n",
    "创建Kmeans类实例化对象\\\n",
    "fit(标准化后的特征向量)\\\n",
    "获取簇标签kmeans.labels_和簇中心kmeans.cluster_centers_\\\n",
    "统计每个簇中的数据点数量np.bincount(labels)\\\n",
    "将带有簇类标签的数据保存到 Excel表data.to_excel(保存文件的路径名)"
   ]
  },
  {
   "cell_type": "code",
   "execution_count": 28,
   "id": "d3c76bad",
   "metadata": {},
   "outputs": [
    {
     "name": "stdout",
     "output_type": "stream",
     "text": [
      "簇标签：\n",
      "[0 0 0 2 0 2 0 2 2 0 2 0 0 0 2 2 0 2 0 0 0 0 0 2 0 0 2 2 2 2 0 0 2 2 0 0 2\n",
      " 0 0 0 2 0 2 2 0 0 2 0 2 2 2 1 2 2 1 2 2 2 0 2 0 1 1 0 0 2 2 0 2 2 2 0 0 2\n",
      " 0 2 0 0 0 2 2 0 0 0 0 1 0 0 2 0 0 0 0 2 2 0 2 2 2 0 2 2 2 0 0 0 2 0 0 2 2\n",
      " 0 0 0 0 0 0 0 0 0 0 0 0 0 2 0 2 2 0 0 0 2 2 0 0 0 0 0 2 0 1 0 0 0 0 2 0 0\n",
      " 0 0 0 0 0 0 2 0 2 0 0 2 0 2 2 1 2 0 2 2 2 0 0 0 0 0 2 0 2 0 0 2 2 0 0 0 2\n",
      " 2 0 0 0 0 0 0 0 2 0 2 0 2 1 0 0 2 2 0 0 0 0 0 2 0 0 0 0 2 2 0 0 2 2 0 2 2\n",
      " 2 0 2 2 0 2 0 0 0 2 2 2 0 0 0 0 2 2 0 0 0 0 2 0 2 0 2 2 2 0 0]\n",
      "簇中心：\n",
      "[[0.01179019 0.39477056 0.2834045  0.08960556 0.17716388]\n",
      " [0.61004028 0.66726192 0.75134133 0.05296031 0.23488539]\n",
      " [0.02349665 0.38295723 0.63188958 0.10103672 0.19513912]]\n"
     ]
    }
   ],
   "source": [
    "n_clusters = 3 # 分簇的数量\n",
    "n_init = 10 # 指定kmeans算法重复运行次数\n",
    "estimator = KMeans(init='k-means++', n_clusters=n_clusters, n_init=n_init)  # 设置n_clusters=1是为了计算SSE值\n",
    "estimator = estimator.fit(scaled_features)\n",
    "print(\"簇标签：\")\n",
    "print(estimator.labels_)\n",
    "print(\"簇中心：\")\n",
    "print(estimator.cluster_centers_)\n",
    "\n",
    "import pandas as pd\n",
    "\n",
    "# Save the cluster labels and cluster centers to an Excel file\n",
    "pd.DataFrame(estimator.labels_).to_excel(\"cluster_labels.xlsx\", index=False)\n",
    "pd.DataFrame(estimator.cluster_centers_).to_excel(\"cluster_centers.xlsx\", index=False)"
   ]
  },
  {
   "cell_type": "markdown",
   "id": "acb0163d",
   "metadata": {},
   "source": [
    "#### 6.评估模型\n",
    "SSE:kmeans.inertia_<br>\n",
    "SC:metrics.silhouette_score(scaled_features, kmeans.labels_, metric='euclidean')<br>\n",
    "DBI:metrics.davies_bouldin_score(scaled_features, kmeans.labels_)<br>\n",
    "CH:metrics.calinski_harabasz_score(scaled_features, kmeans.labels_)))  "
   ]
  },
  {
   "cell_type": "code",
   "execution_count": 29,
   "id": "d3552be9",
   "metadata": {},
   "outputs": [
    {
     "name": "stdout",
     "output_type": "stream",
     "text": [
      "SSE: 9.061653200248596 \n",
      "SC: 0.10157984416746889 \n",
      "DBI: 2.984230622484489 \n",
      "CH: 110.26297364207073\n"
     ]
    }
   ],
   "source": [
    "from sklearn import metrics\n",
    "\n",
    "print('SSE:',estimator.inertia_,\n",
    "'\\nSC:',metrics.silhouette_score(features, estimator.labels_, metric='euclidean'),\n",
    "'\\nDBI:',metrics.davies_bouldin_score(features, estimator.labels_),\n",
    "'\\nCH:',metrics.calinski_harabasz_score(features, estimator.labels_))           "
   ]
  },
  {
   "cell_type": "markdown",
   "id": "fab8aba5",
   "metadata": {},
   "source": [
    "#### 7.可视化聚类结果：\n",
    "plt.scatter(scaled_features[:, m], scaled_features[:, n], c=labels, cmap='viridis')\\\n",
    "plt.scatter(centers[:, m], centers[:, n], c='red', marker='x')"
   ]
  },
  {
   "cell_type": "code",
   "execution_count": 30,
   "id": "8b944530",
   "metadata": {},
   "outputs": [
    {
     "data": {
      "text/plain": [
       "<matplotlib.collections.PathCollection at 0x7f883680e770>"
      ]
     },
     "execution_count": 30,
     "metadata": {},
     "output_type": "execute_result"
    },
    {
     "data": {
      "image/png": "[encoded data removed]",
      "text/plain": [
       "<Figure size 640x480 with 1 Axes>"
      ]
     },
     "metadata": {},
     "output_type": "display_data"
    }
   ],
   "source": [
    "plt.scatter(scaled_features[:, 0], scaled_features[:, 1], c=estimator.labels_)\n",
    "plt.scatter(estimator.cluster_centers_[:, 0], estimator.cluster_centers_[:, 1], c='red', marker='x')"
   ]
  },
  {
   "cell_type": "code",
   "execution_count": 31,
   "id": "833f6e28",
   "metadata": {},
   "outputs": [],
   "source": [
    "from sklearn.cluster import DBSCAN\n",
    "\n",
    "\n",
    "clustering = DBSCAN(eps=0.3, min_samples=2).fit(scaled_features)"
   ]
  },
  {
   "cell_type": "code",
   "execution_count": 32,
   "id": "fe67c7d1",
   "metadata": {},
   "outputs": [
    {
     "data": {
      "text/plain": [
       "array([ 0,  0,  0,  0,  0,  0,  0,  0,  0,  0,  0,  0,  0,  0,  0,  0,  0,\n",
       "        0,  0,  0,  0,  0,  0,  0,  0,  0,  0,  0,  0,  0,  0,  0,  0,  0,\n",
       "        0,  0,  0,  0,  0,  0,  0,  0,  0,  0,  0,  0,  0,  0,  0,  0,  0,\n",
       "        1,  0,  0,  1,  0,  0,  0,  0,  0,  0,  2, -1,  0,  0,  0,  0,  0,\n",
       "        0,  0,  0,  0,  0,  0,  0,  0,  0,  0,  0,  0,  0,  0,  0,  0,  0,\n",
       "        1,  0,  0,  0,  0,  0,  0,  0,  0,  0,  0, -1,  0,  0,  0,  0,  0,\n",
       "        0,  0,  0,  0,  0,  0,  0,  0,  0,  0,  0,  0,  0,  0,  0,  0,  0,\n",
       "        0,  0,  0,  0,  0,  0,  0,  0,  0,  0,  0,  0,  0,  0,  0,  0,  0,\n",
       "        0,  0,  0,  0,  2,  0,  0,  0,  0,  0,  0,  0,  0,  0,  0,  0,  0,\n",
       "        0,  0,  0,  0,  0,  0,  0,  0,  0,  0,  1,  0,  0,  0,  0,  0,  0,\n",
       "        0,  0,  0,  0,  0,  0,  0,  0,  0,  0,  0,  0,  0,  0,  0,  0,  0,\n",
       "        0,  0,  0,  0,  0,  0,  0,  0,  0,  0, -1,  1,  0,  0,  0,  0,  0,\n",
       "        0,  0,  0,  0,  0,  0,  0,  0,  0,  0,  0,  0,  0,  0,  0,  0,  0,\n",
       "        0,  0,  0,  0,  0,  0,  0,  0,  0,  0,  0,  0,  0,  0,  0,  0,  0,\n",
       "        0,  0,  0,  0,  0,  0,  0,  0,  0,  0,  0,  0,  0,  0,  0])"
      ]
     },
     "execution_count": 32,
     "metadata": {},
     "output_type": "execute_result"
    }
   ],
   "source": [
    "clustering.labels_"
   ]
  },
  {
   "cell_type": "code",
   "execution_count": 33,
   "id": "c6511038",
   "metadata": {},
   "outputs": [
    {
     "data": {
      "text/html": [
       "<style>#sk-container-id-2 {\n",
       "  /* Definition of color scheme common for light and dark mode */\n",
       "  --sklearn-color-text: black;\n",
       "  --sklearn-color-line: gray;\n",
       "  /* Definition of color scheme for unfitted estimators */\n",
       "  --sklearn-color-unfitted-level-0: #fff5e6;\n",
       "  --sklearn-color-unfitted-level-1: #f6e4d2;\n",
       "  --sklearn-color-unfitted-level-2: #ffe0b3;\n",
       "  --sklearn-color-unfitted-level-3: chocolate;\n",
       "  /* Definition of color scheme for fitted estimators */\n",
       "  --sklearn-color-fitted-level-0: #f0f8ff;\n",
       "  --sklearn-color-fitted-level-1: #d4ebff;\n",
       "  --sklearn-color-fitted-level-2: #b3dbfd;\n",
       "  --sklearn-color-fitted-level-3: cornflowerblue;\n",
       "\n",
       "  /* Specific color for light theme */\n",
       "  --sklearn-color-text-on-default-background: var(--sg-text-color, var(--theme-code-foreground, var(--jp-content-font-color1, black)));\n",
       "  --sklearn-color-background: var(--sg-background-color, var(--theme-background, var(--jp-layout-color0, white)));\n",
       "  --sklearn-color-border-box: var(--sg-text-color, var(--theme-code-foreground, var(--jp-content-font-color1, black)));\n",
       "  --sklearn-color-icon: #696969;\n",
       "\n",
       "  @media (prefers-color-scheme: dark) {\n",
       "    /* Redefinition of color scheme for dark theme */\n",
       "    --sklearn-color-text-on-default-background: var(--sg-text-color, var(--theme-code-foreground, var(--jp-content-font-color1, white)));\n",
       "    --sklearn-color-background: var(--sg-background-color, var(--theme-background, var(--jp-layout-color0, #111)));\n",
       "    --sklearn-color-border-box: var(--sg-text-color, var(--theme-code-foreground, var(--jp-content-font-color1, white)));\n",
       "    --sklearn-color-icon: #878787;\n",
       "  }\n",
       "}\n",
       "\n",
       "#sk-container-id-2 {\n",
       "  color: var(--sklearn-color-text);\n",
       "}\n",
       "\n",
       "#sk-container-id-2 pre {\n",
       "  padding: 0;\n",
       "}\n",
       "\n",
       "#sk-container-id-2 input.sk-hidden--visually {\n",
       "  border: 0;\n",
       "  clip: rect(1px 1px 1px 1px);\n",
       "  clip: rect(1px, 1px, 1px, 1px);\n",
       "  height: 1px;\n",
       "  margin: -1px;\n",
       "  overflow: hidden;\n",
       "  padding: 0;\n",
       "  position: absolute;\n",
       "  width: 1px;\n",
       "}\n",
       "\n",
       "#sk-container-id-2 div.sk-dashed-wrapped {\n",
       "  border: 1px dashed var(--sklearn-color-line);\n",
       "  margin: 0 0.4em 0.5em 0.4em;\n",
       "  box-sizing: border-box;\n",
       "  padding-bottom: 0.4em;\n",
       "  background-color: var(--sklearn-color-background);\n",
       "}\n",
       "\n",
       "#sk-container-id-2 div.sk-container {\n",
       "  /* jupyter's `normalize.less` sets `[hidden] { display: none; }`\n",
       "     but bootstrap.min.css set `[hidden] { display: none !important; }`\n",
       "     so we also need the `!important` here to be able to override the\n",
       "     default hidden behavior on the sphinx rendered scikit-learn.org.\n",
       "     See: https://github.com/scikit-learn/scikit-learn/issues/21755 */\n",
       "  display: inline-block !important;\n",
       "  position: relative;\n",
       "}\n",
       "\n",
       "#sk-container-id-2 div.sk-text-repr-fallback {\n",
       "  display: none;\n",
       "}\n",
       "\n",
       "div.sk-parallel-item,\n",
       "div.sk-serial,\n",
       "div.sk-item {\n",
       "  /* draw centered vertical line to link estimators */\n",
       "  background-image: linear-gradient(var(--sklearn-color-text-on-default-background), var(--sklearn-color-text-on-default-background));\n",
       "  background-size: 2px 100%;\n",
       "  background-repeat: no-repeat;\n",
       "  background-position: center center;\n",
       "}\n",
       "\n",
       "/* Parallel-specific style estimator block */\n",
       "\n",
       "#sk-container-id-2 div.sk-parallel-item::after {\n",
       "  content: \"\";\n",
       "  width: 100%;\n",
       "  border-bottom: 2px solid var(--sklearn-color-text-on-default-background);\n",
       "  flex-grow: 1;\n",
       "}\n",
       "\n",
       "#sk-container-id-2 div.sk-parallel {\n",
       "  display: flex;\n",
       "  align-items: stretch;\n",
       "  justify-content: center;\n",
       "  background-color: var(--sklearn-color-background);\n",
       "  position: relative;\n",
       "}\n",
       "\n",
       "#sk-container-id-2 div.sk-parallel-item {\n",
       "  display: flex;\n",
       "  flex-direction: column;\n",
       "}\n",
       "\n",
       "#sk-container-id-2 div.sk-parallel-item:first-child::after {\n",
       "  align-self: flex-end;\n",
       "  width: 50%;\n",
       "}\n",
       "\n",
       "#sk-container-id-2 div.sk-parallel-item:last-child::after {\n",
       "  align-self: flex-start;\n",
       "  width: 50%;\n",
       "}\n",
       "\n",
       "#sk-container-id-2 div.sk-parallel-item:only-child::after {\n",
       "  width: 0;\n",
       "}\n",
       "\n",
       "/* Serial-specific style estimator block */\n",
       "\n",
       "#sk-container-id-2 div.sk-serial {\n",
       "  display: flex;\n",
       "  flex-direction: column;\n",
       "  align-items: center;\n",
       "  background-color: var(--sklearn-color-background);\n",
       "  padding-right: 1em;\n",
       "  padding-left: 1em;\n",
       "}\n",
       "\n",
       "\n",
       "/* Toggleable style: style used for estimator/Pipeline/ColumnTransformer box that is\n",
       "clickable and can be expanded/collapsed.\n",
       "- Pipeline and ColumnTransformer use this feature and define the default style\n",
       "- Estimators will overwrite some part of the style using the `sk-estimator` class\n",
       "*/\n",
       "\n",
       "/* Pipeline and ColumnTransformer style (default) */\n",
       "\n",
       "#sk-container-id-2 div.sk-toggleable {\n",
       "  /* Default theme specific background. It is overwritten whether we have a\n",
       "  specific estimator or a Pipeline/ColumnTransformer */\n",
       "  background-color: var(--sklearn-color-background);\n",
       "}\n",
       "\n",
       "/* Toggleable label */\n",
       "#sk-container-id-2 label.sk-toggleable__label {\n",
       "  cursor: pointer;\n",
       "  display: block;\n",
       "  width: 100%;\n",
       "  margin-bottom: 0;\n",
       "  padding: 0.5em;\n",
       "  box-sizing: border-box;\n",
       "  text-align: center;\n",
       "}\n",
       "\n",
       "#sk-container-id-2 label.sk-toggleable__label-arrow:before {\n",
       "  /* Arrow on the left of the label */\n",
       "  content: \"▸\";\n",
       "  float: left;\n",
       "  margin-right: 0.25em;\n",
       "  color: var(--sklearn-color-icon);\n",
       "}\n",
       "\n",
       "#sk-container-id-2 label.sk-toggleable__label-arrow:hover:before {\n",
       "  color: var(--sklearn-color-text);\n",
       "}\n",
       "\n",
       "/* Toggleable content - dropdown */\n",
       "\n",
       "#sk-container-id-2 div.sk-toggleable__content {\n",
       "  max-height: 0;\n",
       "  max-width: 0;\n",
       "  overflow: hidden;\n",
       "  text-align: left;\n",
       "  /* unfitted */\n",
       "  background-color: var(--sklearn-color-unfitted-level-0);\n",
       "}\n",
       "\n",
       "#sk-container-id-2 div.sk-toggleable__content.fitted {\n",
       "  /* fitted */\n",
       "  background-color: var(--sklearn-color-fitted-level-0);\n",
       "}\n",
       "\n",
       "#sk-container-id-2 div.sk-toggleable__content pre {\n",
       "  margin: 0.2em;\n",
       "  border-radius: 0.25em;\n",
       "  color: var(--sklearn-color-text);\n",
       "  /* unfitted */\n",
       "  background-color: var(--sklearn-color-unfitted-level-0);\n",
       "}\n",
       "\n",
       "#sk-container-id-2 div.sk-toggleable__content.fitted pre {\n",
       "  /* unfitted */\n",
       "  background-color: var(--sklearn-color-fitted-level-0);\n",
       "}\n",
       "\n",
       "#sk-container-id-2 input.sk-toggleable__control:checked~div.sk-toggleable__content {\n",
       "  /* Expand drop-down */\n",
       "  max-height: 200px;\n",
       "  max-width: 100%;\n",
       "  overflow: auto;\n",
       "}\n",
       "\n",
       "#sk-container-id-2 input.sk-toggleable__control:checked~label.sk-toggleable__label-arrow:before {\n",
       "  content: \"▾\";\n",
       "}\n",
       "\n",
       "/* Pipeline/ColumnTransformer-specific style */\n",
       "\n",
       "#sk-container-id-2 div.sk-label input.sk-toggleable__control:checked~label.sk-toggleable__label {\n",
       "  color: var(--sklearn-color-text);\n",
       "  background-color: var(--sklearn-color-unfitted-level-2);\n",
       "}\n",
       "\n",
       "#sk-container-id-2 div.sk-label.fitted input.sk-toggleable__control:checked~label.sk-toggleable__label {\n",
       "  background-color: var(--sklearn-color-fitted-level-2);\n",
       "}\n",
       "\n",
       "/* Estimator-specific style */\n",
       "\n",
       "/* Colorize estimator box */\n",
       "#sk-container-id-2 div.sk-estimator input.sk-toggleable__control:checked~label.sk-toggleable__label {\n",
       "  /* unfitted */\n",
       "  background-color: var(--sklearn-color-unfitted-level-2);\n",
       "}\n",
       "\n",
       "#sk-container-id-2 div.sk-estimator.fitted input.sk-toggleable__control:checked~label.sk-toggleable__label {\n",
       "  /* fitted */\n",
       "  background-color: var(--sklearn-color-fitted-level-2);\n",
       "}\n",
       "\n",
       "#sk-container-id-2 div.sk-label label.sk-toggleable__label,\n",
       "#sk-container-id-2 div.sk-label label {\n",
       "  /* The background is the default theme color */\n",
       "  color: var(--sklearn-color-text-on-default-background);\n",
       "}\n",
       "\n",
       "/* On hover, darken the color of the background */\n",
       "#sk-container-id-2 div.sk-label:hover label.sk-toggleable__label {\n",
       "  color: var(--sklearn-color-text);\n",
       "  background-color: var(--sklearn-color-unfitted-level-2);\n",
       "}\n",
       "\n",
       "/* Label box, darken color on hover, fitted */\n",
       "#sk-container-id-2 div.sk-label.fitted:hover label.sk-toggleable__label.fitted {\n",
       "  color: var(--sklearn-color-text);\n",
       "  background-color: var(--sklearn-color-fitted-level-2);\n",
       "}\n",
       "\n",
       "/* Estimator label */\n",
       "\n",
       "#sk-container-id-2 div.sk-label label {\n",
       "  font-family: monospace;\n",
       "  font-weight: bold;\n",
       "  display: inline-block;\n",
       "  line-height: 1.2em;\n",
       "}\n",
       "\n",
       "#sk-container-id-2 div.sk-label-container {\n",
       "  text-align: center;\n",
       "}\n",
       "\n",
       "/* Estimator-specific */\n",
       "#sk-container-id-2 div.sk-estimator {\n",
       "  font-family: monospace;\n",
       "  border: 1px dotted var(--sklearn-color-border-box);\n",
       "  border-radius: 0.25em;\n",
       "  box-sizing: border-box;\n",
       "  margin-bottom: 0.5em;\n",
       "  /* unfitted */\n",
       "  background-color: var(--sklearn-color-unfitted-level-0);\n",
       "}\n",
       "\n",
       "#sk-container-id-2 div.sk-estimator.fitted {\n",
       "  /* fitted */\n",
       "  background-color: var(--sklearn-color-fitted-level-0);\n",
       "}\n",
       "\n",
       "/* on hover */\n",
       "#sk-container-id-2 div.sk-estimator:hover {\n",
       "  /* unfitted */\n",
       "  background-color: var(--sklearn-color-unfitted-level-2);\n",
       "}\n",
       "\n",
       "#sk-container-id-2 div.sk-estimator.fitted:hover {\n",
       "  /* fitted */\n",
       "  background-color: var(--sklearn-color-fitted-level-2);\n",
       "}\n",
       "\n",
       "/* Specification for estimator info (e.g. \"i\" and \"?\") */\n",
       "\n",
       "/* Common style for \"i\" and \"?\" */\n",
       "\n",
       ".sk-estimator-doc-link,\n",
       "a:link.sk-estimator-doc-link,\n",
       "a:visited.sk-estimator-doc-link {\n",
       "  float: right;\n",
       "  font-size: smaller;\n",
       "  line-height: 1em;\n",
       "  font-family: monospace;\n",
       "  background-color: var(--sklearn-color-background);\n",
       "  border-radius: 1em;\n",
       "  height: 1em;\n",
       "  width: 1em;\n",
       "  text-decoration: none !important;\n",
       "  margin-left: 1ex;\n",
       "  /* unfitted */\n",
       "  border: var(--sklearn-color-unfitted-level-1) 1pt solid;\n",
       "  color: var(--sklearn-color-unfitted-level-1);\n",
       "}\n",
       "\n",
       ".sk-estimator-doc-link.fitted,\n",
       "a:link.sk-estimator-doc-link.fitted,\n",
       "a:visited.sk-estimator-doc-link.fitted {\n",
       "  /* fitted */\n",
       "  border: var(--sklearn-color-fitted-level-1) 1pt solid;\n",
       "  color: var(--sklearn-color-fitted-level-1);\n",
       "}\n",
       "\n",
       "/* On hover */\n",
       "div.sk-estimator:hover .sk-estimator-doc-link:hover,\n",
       ".sk-estimator-doc-link:hover,\n",
       "div.sk-label-container:hover .sk-estimator-doc-link:hover,\n",
       ".sk-estimator-doc-link:hover {\n",
       "  /* unfitted */\n",
       "  background-color: var(--sklearn-color-unfitted-level-3);\n",
       "  color: var(--sklearn-color-background);\n",
       "  text-decoration: none;\n",
       "}\n",
       "\n",
       "div.sk-estimator.fitted:hover .sk-estimator-doc-link.fitted:hover,\n",
       ".sk-estimator-doc-link.fitted:hover,\n",
       "div.sk-label-container:hover .sk-estimator-doc-link.fitted:hover,\n",
       ".sk-estimator-doc-link.fitted:hover {\n",
       "  /* fitted */\n",
       "  background-color: var(--sklearn-color-fitted-level-3);\n",
       "  color: var(--sklearn-color-background);\n",
       "  text-decoration: none;\n",
       "}\n",
       "\n",
       "/* Span, style for the box shown on hovering the info icon */\n",
       ".sk-estimator-doc-link span {\n",
       "  display: none;\n",
       "  z-index: 9999;\n",
       "  position: relative;\n",
       "  font-weight: normal;\n",
       "  right: .2ex;\n",
       "  padding: .5ex;\n",
       "  margin: .5ex;\n",
       "  width: min-content;\n",
       "  min-width: 20ex;\n",
       "  max-width: 50ex;\n",
       "  color: var(--sklearn-color-text);\n",
       "  box-shadow: 2pt 2pt 4pt #999;\n",
       "  /* unfitted */\n",
       "  background: var(--sklearn-color-unfitted-level-0);\n",
       "  border: .5pt solid var(--sklearn-color-unfitted-level-3);\n",
       "}\n",
       "\n",
       ".sk-estimator-doc-link.fitted span {\n",
       "  /* fitted */\n",
       "  background: var(--sklearn-color-fitted-level-0);\n",
       "  border: var(--sklearn-color-fitted-level-3);\n",
       "}\n",
       "\n",
       ".sk-estimator-doc-link:hover span {\n",
       "  display: block;\n",
       "}\n",
       "\n",
       "/* \"?\"-specific style due to the `<a>` HTML tag */\n",
       "\n",
       "#sk-container-id-2 a.estimator_doc_link {\n",
       "  float: right;\n",
       "  font-size: 1rem;\n",
       "  line-height: 1em;\n",
       "  font-family: monospace;\n",
       "  background-color: var(--sklearn-color-background);\n",
       "  border-radius: 1rem;\n",
       "  height: 1rem;\n",
       "  width: 1rem;\n",
       "  text-decoration: none;\n",
       "  /* unfitted */\n",
       "  color: var(--sklearn-color-unfitted-level-1);\n",
       "  border: var(--sklearn-color-unfitted-level-1) 1pt solid;\n",
       "}\n",
       "\n",
       "#sk-container-id-2 a.estimator_doc_link.fitted {\n",
       "  /* fitted */\n",
       "  border: var(--sklearn-color-fitted-level-1) 1pt solid;\n",
       "  color: var(--sklearn-color-fitted-level-1);\n",
       "}\n",
       "\n",
       "/* On hover */\n",
       "#sk-container-id-2 a.estimator_doc_link:hover {\n",
       "  /* unfitted */\n",
       "  background-color: var(--sklearn-color-unfitted-level-3);\n",
       "  color: var(--sklearn-color-background);\n",
       "  text-decoration: none;\n",
       "}\n",
       "\n",
       "#sk-container-id-2 a.estimator_doc_link.fitted:hover {\n",
       "  /* fitted */\n",
       "  background-color: var(--sklearn-color-fitted-level-3);\n",
       "}\n",
       "</style><div id=\"sk-container-id-2\" class=\"sk-top-container\"><div class=\"sk-text-repr-fallback\"><pre>DBSCAN(eps=0.3, min_samples=2)</pre><b>In a Jupyter environment, please rerun this cell to show the HTML representation or trust the notebook. <br />On GitHub, the HTML representation is unable to render, please try loading this page with nbviewer.org.</b></div><div class=\"sk-container\" hidden><div class=\"sk-item\"><div class=\"sk-estimator fitted sk-toggleable\"><input class=\"sk-toggleable__control sk-hidden--visually\" id=\"sk-estimator-id-2\" type=\"checkbox\" checked><label for=\"sk-estimator-id-2\" class=\"sk-toggleable__label fitted sk-toggleable__label-arrow fitted\">&nbsp;&nbsp;DBSCAN<a class=\"sk-estimator-doc-link fitted\" rel=\"noreferrer\" target=\"_blank\" href=\"https://scikit-learn.org/1.4/modules/generated/sklearn.cluster.DBSCAN.html\">?<span>Documentation for DBSCAN</span></a><span class=\"sk-estimator-doc-link fitted\">i<span>Fitted</span></span></label><div class=\"sk-toggleable__content fitted\"><pre>DBSCAN(eps=0.3, min_samples=2)</pre></div> </div></div></div></div>"
      ],
      "text/plain": [
       "DBSCAN(eps=0.3, min_samples=2)"
      ]
     },
     "execution_count": 33,
     "metadata": {},
     "output_type": "execute_result"
    }
   ],
   "source": [
    "clustering "
   ]
  },
  {
   "cell_type": "code",
   "execution_count": 34,
   "id": "dfabc7c4",
   "metadata": {},
   "outputs": [
    {
     "data": {
      "image/png": "[encoded data removed]",
      "text/plain": [
       "<Figure size 640x480 with 1 Axes>"
      ]
     },
     "metadata": {},
     "output_type": "display_data"
    }
   ],
   "source": [
    "import matplotlib.pyplot as plt\n",
    "plt.scatter(scaled_features[:,0],scaled_features[:,1],c=clustering.labels_+1.5)\n",
    "plt.show()"
   ]
  }
 ],
 "metadata": {
  "kernelspec": {
   "display_name": "Python 3",
   "language": "python",
   "name": "python3"
  },
  "language_info": {
   "codemirror_mode": {
    "name": "ipython",
    "version": 3
   },
   "file_extension": ".py",
   "mimetype": "text/x-python",
   "name": "python",
   "nbconvert_exporter": "python",
   "pygments_lexer": "ipython3",
   "version": "3.10.13"
  }
 },
 "nbformat": 4,
 "nbformat_minor": 5
}
