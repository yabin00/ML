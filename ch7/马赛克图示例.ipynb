{
 "cells": [
  {
   "cell_type": "code",
   "execution_count": 1,
   "metadata": {},
   "outputs": [
    {
     "data": {
      "text/plain": [
       "30"
      ]
     },
     "execution_count": 1,
     "metadata": {},
     "output_type": "execute_result"
    }
   ],
   "source": [
    "# 训练数据分项依次为：年，月，日，性别（1男，0女），是否购物（1购，0不购）\n",
    "train_data = [ [2020, 11, 1, 1, 1],\n",
    "               [2020, 11, 1, 0, 1],\n",
    "               [2020, 11, 1, 0, 1],\n",
    "               [2020, 11, 1, -1, 1],\n",
    "               [2020, 11, 1, 1, 1],\n",
    "               [2020, 11, 1, 0, 1],\n",
    "               [2020, 11, 1, 0, 0],\n",
    "               [2020, 11, 1, 0, 1],\n",
    "               [2020, 11, 2, 1, 0],\n",
    "               [2020, 11, 2, 1, 1],\n",
    "               [2020, 11, 2, 0, 0],\n",
    "               [2020, 11, 2, 1, 1],\n",
    "               [2020, 11, 3, 0, 0],\n",
    "               [2020, 11, 3, 0, 0],\n",
    "               [2020, 11, 4, 1, 0],\n",
    "               [2020, 11, 4, 0, 1],\n",
    "               [2020, 11, 5, 0, 0],\n",
    "               [2020, 11, 5, 0, 0],\n",
    "               [2020, 11, 6, 1, 1],\n",
    "               [2020, 11, 6, 1, 1],\n",
    "               [2020, 11, 7, 0, 0],\n",
    "               [2020, 11, 7, 1, 0],\n",
    "               [2020, 11, 7, 0, 1],\n",
    "               [2020, 11, 7, 0, 1],\n",
    "               [2020, 11, 8, 1, 1],\n",
    "               [2020, 11, 8, 0, 1],\n",
    "               [2020, 11, 9, 0, 0],\n",
    "               [2020, 11, 9, 0, 0],\n",
    "               [2020, 11, 10, 1, 1],\n",
    "               [2020, 11, 11, 1, 0],\n",
    "               [2020, 11, 11, 1, -1],\n",
    "               [2020, 11, 12, 0, 0]]\n",
    "# 清除不合格数据\n",
    "del train_data[30]\n",
    "del train_data[3]\n",
    "len(train_data)"
   ]
  },
  {
   "cell_type": "code",
   "execution_count": 2,
   "metadata": {},
   "outputs": [],
   "source": [
    "import datetime # 导入datetime模块，该模块用来处理与日期和时间有关的计算\n",
    "# 定义一个判断是否为周末的函数\n",
    "def isweekend( date ): \n",
    "    theday = datetime.date( date[0], date[1], date[2] ) # 创建一个date对象\n",
    "    if theday.isoweekday() in { 6, 7 }: # 如果date是周末则返回1，否则返回0\n",
    "        return 1\n",
    "    else:\n",
    "        return 0"
   ]
  },
  {
   "cell_type": "code",
   "execution_count": 3,
   "metadata": {},
   "outputs": [],
   "source": [
    "# 是否周末的特征，性别，是否购物三项数据\n",
    "train_set1 = []\n",
    "for i in range(len(train_data)):\n",
    "        weekend = isweekend(train_data[i][:3])\n",
    "        train_set1.append( [weekend, train_data[i][3], train_data[i][4]] )"
   ]
  },
  {
   "cell_type": "code",
   "execution_count": 4,
   "metadata": {},
   "outputs": [],
   "source": [
    "import pandas as pd\n",
    "df = pd.core.frame.DataFrame(train_set1)\n",
    "#print(df)"
   ]
  },
  {
   "cell_type": "code",
   "execution_count": 5,
   "metadata": {},
   "outputs": [],
   "source": [
    "wk = df[0].astype('str').apply(lambda x: '周末' if x=='1' else '非周末')\n",
    "man = df[1].astype('str').apply(lambda x: '男' if x=='1' else '女')\n",
    "label = df[2].astype('str').apply(lambda x: '购物' if x=='1' else '不购物')\n",
    "#print(label)"
   ]
  },
  {
   "cell_type": "code",
   "execution_count": 6,
   "metadata": {},
   "outputs": [],
   "source": [
    "from statsmodels.graphics.mosaicplot import mosaic\n",
    "import matplotlib.pyplot as plt\n",
    "plt.rc('font', family='SimHei', size=13)"
   ]
  },
  {
   "cell_type": "code",
   "execution_count": 7,
   "metadata": {},
   "outputs": [
    {
     "data": {
      "text/plain": [
       "(<Figure size 432x288 with 3 Axes>,\n",
       " OrderedDict([(('男', '购物'),\n",
       "               (0.0, 0.0, 0.39603960396039606, 0.6622516556291389)),\n",
       "              (('男', '不购物'),\n",
       "               (0.0,\n",
       "                0.6688741721854303,\n",
       "                0.39603960396039606,\n",
       "                0.3311258278145695)),\n",
       "              (('女', '购物'),\n",
       "               (0.40594059405940597,\n",
       "                0.0,\n",
       "                0.594059405940594,\n",
       "                0.44150110375275936)),\n",
       "              (('女', '不购物'),\n",
       "               (0.40594059405940597,\n",
       "                0.4481236203090508,\n",
       "                0.594059405940594,\n",
       "                0.5518763796909493))]))"
      ]
     },
     "execution_count": 7,
     "metadata": {},
     "output_type": "execute_result"
    },
    {
     "data": {
      "image/png": "[encoded data removed]",
      "text/plain": [
       "<Figure size 432x288 with 3 Axes>"
      ]
     },
     "metadata": {
      "needs_background": "light"
     },
     "output_type": "display_data"
    }
   ],
   "source": [
    "mosaic_data1 = pd.concat([man, label], axis=1)\n",
    "#print(mosaic_data)\n",
    "mosaic(data=mosaic_data1, index=[1, 2], gap=0.01, title=u'性别与购物的关系')"
   ]
  },
  {
   "cell_type": "code",
   "execution_count": 8,
   "metadata": {},
   "outputs": [
    {
     "data": {
      "text/plain": [
       "(<Figure size 432x288 with 3 Axes>,\n",
       " OrderedDict([(('周末', '购物'),\n",
       "               (0.0, 0.0, 0.4290429042904291, 0.7641365257259296)),\n",
       "              (('周末', '不购物'),\n",
       "               (0.0,\n",
       "                0.770759042282221,\n",
       "                0.4290429042904291,\n",
       "                0.22924095771777883)),\n",
       "              (('非周末', '购物'),\n",
       "               (0.438943894389439,\n",
       "                0.0,\n",
       "                0.5610561056105611,\n",
       "                0.35060381768601484)),\n",
       "              (('非周末', '不购物'),\n",
       "               (0.438943894389439,\n",
       "                0.3572263342423062,\n",
       "                0.5610561056105611,\n",
       "                0.6427736657576938))]))"
      ]
     },
     "execution_count": 8,
     "metadata": {},
     "output_type": "execute_result"
    },
    {
     "data": {
      "image/png": "[encoded data removed]",
      "text/plain": [
       "<Figure size 432x288 with 3 Axes>"
      ]
     },
     "metadata": {
      "needs_background": "light"
     },
     "output_type": "display_data"
    }
   ],
   "source": [
    "mosaic_data = pd.concat([wk, label], axis=1)\n",
    "mosaic(data=mosaic_data, index=[0, 2], gap=0.01, title=u'周末与购物的关系')"
   ]
  },
  {
   "cell_type": "code",
   "execution_count": null,
   "metadata": {},
   "outputs": [],
   "source": []
  },
  {
   "cell_type": "code",
   "execution_count": null,
   "metadata": {},
   "outputs": [],
   "source": []
  }
 ],
 "metadata": {
  "kernelspec": {
   "display_name": "Python 3",
   "language": "python",
   "name": "python3"
  },
  "language_info": {
   "codemirror_mode": {
    "name": "ipython",
    "version": 3
   },
   "file_extension": ".py",
   "mimetype": "text/x-python",
   "name": "python",
   "nbconvert_exporter": "python",
   "pygments_lexer": "ipython3",
   "version": "3.7.5"
  }
 },
 "nbformat": 4,
 "nbformat_minor": 2
}
