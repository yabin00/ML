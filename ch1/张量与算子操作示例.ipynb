{
 "cells": [
  {
   "cell_type": "markdown",
   "metadata": {},
   "source": [
    "## 以数组元素的平方为例示意张量与算子的操作"
   ]
  },
  {
   "cell_type": "markdown",
   "metadata": {},
   "source": [
    "### numpy计算"
   ]
  },
  {
   "cell_type": "code",
   "execution_count": 1,
   "metadata": {},
   "outputs": [
    {
     "name": "stdout",
     "output_type": "stream",
     "text": [
      "numpy output =  [ 1.  4. 36.]\n"
     ]
    }
   ],
   "source": [
    "import numpy as np\n",
    "np_x = np.array([1.0, 2.0, 6.0])\n",
    "print(\"numpy output = \", np.square(np_x)) # 或者 np_x ** 2；np_x * np_x; np.power(np_x, 2)"
   ]
  },
  {
   "cell_type": "markdown",
   "metadata": {},
   "source": [
    "### mindspore计算"
   ]
  },
  {
   "cell_type": "code",
   "execution_count": 2,
   "metadata": {},
   "outputs": [
    {
     "name": "stdout",
     "output_type": "stream",
     "text": [
      "mindspore output = [ 1.  4. 36.]\n"
     ]
    }
   ],
   "source": [
    "import mindspore as ms\n",
    "import mindspore.ops.operations as P\n",
    "ms_x = ms.Tensor([1.0, 2.0, 6.0], ms.float32) # 生成一个张量\n",
    "square = P.Square() # 实例化\n",
    "output = square(ms_x)\n",
    "print(\"mindspore output =\", output)"
   ]
  },
  {
   "cell_type": "markdown",
   "metadata": {},
   "source": [
    "### tensorflow计算"
   ]
  },
  {
   "cell_type": "code",
   "execution_count": 3,
   "metadata": {},
   "outputs": [
    {
     "name": "stdout",
     "output_type": "stream",
     "text": [
      "tensorflow output =  tf.Tensor([ 1.  4. 36.], shape=(3,), dtype=float32)\n"
     ]
    }
   ],
   "source": [
    "import tensorflow as tf\n",
    "tf_x = tf.constant([1.0, 2.0, 6.0])\n",
    "print(\"tensorflow output = \", tf.pow(tf_x, 2))"
   ]
  },
  {
   "cell_type": "markdown",
   "metadata": {},
   "source": [
    "### 对python运算符的支持"
   ]
  },
  {
   "cell_type": "code",
   "execution_count": 4,
   "metadata": {},
   "outputs": [
    {
     "name": "stdout",
     "output_type": "stream",
     "text": [
      "[ 1.  4. 36.]\n",
      "[ 1.  4. 36.]\n",
      "tf.Tensor([ 1.  4. 36.], shape=(3,), dtype=float32)\n"
     ]
    }
   ],
   "source": [
    "print(np_x ** 2)\n",
    "print(ms_x ** 2)\n",
    "print(tf_x ** 2)"
   ]
  },
  {
   "cell_type": "code",
   "execution_count": null,
   "metadata": {},
   "outputs": [],
   "source": []
  }
 ],
 "metadata": {
  "kernelspec": {
   "display_name": "Python 3 (ipykernel)",
   "language": "python",
   "name": "python3"
  },
  "language_info": {
   "codemirror_mode": {
    "name": "ipython",
    "version": 3
   },
   "file_extension": ".py",
   "mimetype": "text/x-python",
   "name": "python",
   "nbconvert_exporter": "python",
   "pygments_lexer": "ipython3",
   "version": "3.8.0"
  }
 },
 "nbformat": 4,
 "nbformat_minor": 2
}
