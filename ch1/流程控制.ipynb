{
 "cells": [
  {
   "cell_type": "markdown",
   "metadata": {},
   "source": [
    "##### if语句示例 第一种形式"
   ]
  },
  {
   "cell_type": "code",
   "execution_count": 2,
   "metadata": {},
   "outputs": [],
   "source": [
    "name = \"王\"\n",
    "room = 0"
   ]
  },
  {
   "cell_type": "code",
   "execution_count": 6,
   "metadata": {},
   "outputs": [
    {
     "name": "stdout",
     "output_type": "stream",
     "text": [
      "姓：王，房间号为：819\n"
     ]
    }
   ],
   "source": [
    "if name == \"王\":\n",
    "    room = 819\n",
    "print(\"姓：%s，房间号为：%d\" % (name, room))"
   ]
  },
  {
   "cell_type": "code",
   "execution_count": 7,
   "metadata": {},
   "outputs": [
    {
     "name": "stdout",
     "output_type": "stream",
     "text": [
      "姓：王，房间号为：819\n"
     ]
    }
   ],
   "source": [
    "if name == \"刘\":\n",
    "    room = 719\n",
    "print(\"姓：%s，房间号为：%d\" % (name, room))"
   ]
  },
  {
   "cell_type": "markdown",
   "metadata": {},
   "source": [
    "##### if语句示例 第二种形式"
   ]
  },
  {
   "cell_type": "code",
   "execution_count": 5,
   "metadata": {},
   "outputs": [
    {
     "name": "stdout",
     "output_type": "stream",
     "text": [
      "姓：王，房间号为：619\n"
     ]
    }
   ],
   "source": [
    "if name == \"吴\":\n",
    "    room = 819\n",
    "else:\n",
    "    room = 619\n",
    "print(\"姓：%s，房间号为：%d\" % (name, room))"
   ]
  },
  {
   "cell_type": "markdown",
   "metadata": {},
   "source": [
    "##### if语句示例 第三种形式"
   ]
  },
  {
   "cell_type": "code",
   "execution_count": 8,
   "metadata": {},
   "outputs": [
    {
     "name": "stdout",
     "output_type": "stream",
     "text": [
      "姓：王，房间号为：619\n"
     ]
    }
   ],
   "source": [
    "if name == \"吴\":\n",
    "    room = 819\n",
    "elif name ==\"刘\":\n",
    "    room = 719\n",
    "else:\n",
    "    room = 619\n",
    "print(\"姓：%s，房间号为：%d\" % (name, room))"
   ]
  },
  {
   "cell_type": "markdown",
   "metadata": {},
   "source": [
    "##### while语句"
   ]
  },
  {
   "cell_type": "code",
   "execution_count": 9,
   "metadata": {},
   "outputs": [
    {
     "name": "stdout",
     "output_type": "stream",
     "text": [
      "2\n",
      "4\n",
      "6\n",
      "8\n",
      "10\n"
     ]
    }
   ],
   "source": [
    "# 用while语句来打印10以内的偶数\n",
    "a = 2\n",
    "while a <= 10:\n",
    "    print(a)\n",
    "    a += 2"
   ]
  },
  {
   "cell_type": "markdown",
   "metadata": {},
   "source": [
    "##### for语句"
   ]
  },
  {
   "cell_type": "code",
   "execution_count": 13,
   "metadata": {},
   "outputs": [
    {
     "name": "stdout",
     "output_type": "stream",
     "text": [
      "2\n",
      "4\n",
      "6\n",
      "8\n",
      "10\n",
      "循环结束\n"
     ]
    }
   ],
   "source": [
    "# 用for语句来打印10以内的偶数\n",
    "for i in [2, 4, 6, 8 ,10]:\n",
    "    print(i)\n",
    "else:\n",
    "    print(\"循环结束\")"
   ]
  },
  {
   "cell_type": "code",
   "execution_count": 18,
   "metadata": {},
   "outputs": [
    {
     "name": "stdout",
     "output_type": "stream",
     "text": [
      "2\n",
      "4\n",
      "6\n",
      "8\n",
      "10\n",
      "循环结束\n"
     ]
    }
   ],
   "source": [
    "for i in range(2, 11, 2):\n",
    "    print(i)\n",
    "else:\n",
    "    print(\"循环结束\")"
   ]
  },
  {
   "cell_type": "code",
   "execution_count": null,
   "metadata": {},
   "outputs": [],
   "source": []
  }
 ],
 "metadata": {
  "kernelspec": {
   "display_name": "Python 3",
   "language": "python",
   "name": "python3"
  },
  "language_info": {
   "codemirror_mode": {
    "name": "ipython",
    "version": 3
   },
   "file_extension": ".py",
   "mimetype": "text/x-python",
   "name": "python",
   "nbconvert_exporter": "python",
   "pygments_lexer": "ipython3",
   "version": "3.6.9"
  }
 },
 "nbformat": 4,
 "nbformat_minor": 2
}
